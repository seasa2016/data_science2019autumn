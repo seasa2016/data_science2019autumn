{
 "cells": [
  {
   "cell_type": "code",
   "execution_count": 0,
   "metadata": {
    "colab": {},
    "colab_type": "code",
    "id": "cGysFPR3gFz4"
   },
   "outputs": [],
   "source": []
  },
  {
   "cell_type": "markdown",
   "metadata": {
    "colab_type": "text",
    "id": "WTcGpcl7-IM8"
   },
   "source": [
    "# Pandas Highlevel\n",
    "\n",
    "Pandas is a python module that is powerful to handle data science tasks.\n",
    "\n",
    "\n"
   ]
  },
  {
   "cell_type": "markdown",
   "metadata": {
    "colab_type": "text",
    "id": "JnEt6FN2gJP_"
   },
   "source": [
    "## What is Pandas\n",
    "\n",
    "* Pandas is a Python package \n",
    "* It is **fast, flexible, and expressive**\n",
    "* Designed to make working with **“relational”** or **“labeled” data** both easy and intuitive. \n",
    "\n",
    "**Goals:** (based on pandas official website)\n",
    "* to be the fundamental high-level building block for doing practical, real world data analysis in Python. \n",
    "* to become the most powerful and flexible open source data analysis / manipulation tool available in any language. \n",
    "  \n",
    "\n",
    "pandas is suited for the following kinds of data:\n",
    "\n",
    "* **Tabular data**\n",
    "  * **with heterogeneously-typed columns**, as in an SQL table or Excel spreadsheet\n",
    "* **Time series data**\n",
    "  * **Ordered and unordered (not necessarily fixed-frequency) time series data**.\n",
    "* **Matrix data**\n",
    "  * Arbitrary **matrix data (homogeneously typed or heterogeneous) with row and column labels**\n",
    "* **Observational / statistical data sets**\n",
    "  * Any other form of **observational / statistical data sets**. \n",
    "  * The data actually need not be labeled at all to be placed into a pandas data structure"
   ]
  },
  {
   "cell_type": "markdown",
   "metadata": {
    "colab_type": "text",
    "id": "EWkx4NpTtryQ"
   },
   "source": [
    "## The core concepts of Pandas\n",
    "Pandas is a large and complicated package with many features and function APIs.\n",
    "\n",
    "The essence of Pandas: (1) data structures (2) index (3) reshape (4) high level funtions:\n",
    "* Data structures\n",
    "  * Series and dataFrame\n",
    "* Index\n",
    "  * Powerful functions based index and Multi-index\n",
    "* Reshape\n",
    "  * Dataframe reshape based on index\n",
    "* High level functions\n",
    "  * High level function support, such as \n",
    "    * Missing data\n",
    "    * Stats and window functions\n",
    "    * Group by\n",
    "    * TIme series\n",
    "    * Plot"
   ]
  },
  {
   "cell_type": "markdown",
   "metadata": {
    "colab_type": "text",
    "id": "5uQvFLaihOaT"
   },
   "source": [
    "### Primart Data Structures\n",
    "\n",
    "The two primary data structures of pandas:\n",
    "* **Series (1-dimensional)** \n",
    "* **DataFrame (2-dimensional)**\n",
    "\n",
    "Handle the vast majority of typical use cases in finance, statistics, social science, and many areas of engineering. \n",
    "\n",
    "* For R users, DataFrame provides everything that R’s data.frame provides and much more. \n",
    "* pandas is built on top of NumPy and is intended to integrate well within a scientific computing environment with many other 3rd party libraries.\n",
    "\n",
    "Here are just a few of the things that pandas does well:\n",
    "\n",
    "* Easy handling of missing data (represented as NaN) in floating point as well as non-floating point data\n",
    "* Size mutability: columns can be inserted and deleted from DataFrame and higher dimensional objects\n",
    "* Automatic and explicit data alignment: objects can be explicitly aligned to a set of labels, or the user can simply ignore the labels and let Series, DataFrame, etc. automatically align the data for you in computations\n",
    "* Powerful, flexible group by functionality to perform split-apply-combine operations on data sets, for both aggregating and transforming data\n",
    "* Make it easy to convert ragged, differently-indexed data in other Python and NumPy data structures into DataFrame objects\n",
    "* Intelligent label-based slicing, fancy indexing, and subsetting of large data sets\n",
    "* Intuitive merging and joining data sets\n",
    "* Flexible reshaping and pivoting of data sets\n",
    "* Hierarchical labeling of axes (possible to have multiple labels per tick)\n",
    "* Robust IO tools for loading data from flat files (CSV and delimited), Excel files, databases, and saving / loading data from the ultrafast HDF5 format\n",
    "* Time series-specific functionality: date range generation and frequency conversion, moving window statistics, moving window linear regressions, date shifting and lagging, etc.\n",
    "\n",
    "\n",
    "#### Mutability and copying of data\n",
    "All pandas data structures are value-mutable (the values they contain can be altered) but not always size-mutable. The length of a Series cannot be changed, but, for example, columns can be inserted into a DataFrame. However, the vast majority of methods produce new objects and leave the input data untouched. In general we like to favor immutability where sensible.\n",
    "\n",
    "#### Pandas data structures\n",
    "\n",
    "Dimensions | Name | Description\n",
    "---|---|---\n",
    "1 | Series | 1D labeled homogeniously-typed array, size-immutable\n",
    "2 | DataFrame | 2D, labeled, size-mutable tabular structure, with potentially heterogeneously-typed column"
   ]
  },
  {
   "cell_type": "markdown",
   "metadata": {
    "colab_type": "text",
    "id": "y-pFyvY_ln4n"
   },
   "source": [
    "## Quick look into pandas coding\n",
    "\n",
    "a short introduction to pandas"
   ]
  },
  {
   "cell_type": "markdown",
   "metadata": {
    "colab_type": "text",
    "id": "83c_xIUIEd2b"
   },
   "source": [
    "## Create Series and DataFrames"
   ]
  },
  {
   "cell_type": "code",
   "execution_count": 1,
   "metadata": {
    "colab": {
     "base_uri": "https://localhost:8080/",
     "height": 138
    },
    "colab_type": "code",
    "executionInfo": {
     "elapsed": 2502,
     "status": "ok",
     "timestamp": 1569979968768,
     "user": {
      "displayName": "ML Lo",
      "photoUrl": "",
      "userId": "11511065297651515564"
     },
     "user_tz": -480
    },
    "id": "WYJ0jpSWljJd",
    "outputId": "c980315d-579a-4c30-c3e8-61db4e1f3ae8"
   },
   "outputs": [
    {
     "name": "stdout",
     "output_type": "stream",
     "text": [
      "0    1.0\n",
      "1    3.0\n",
      "2    5.0\n",
      "3    NaN\n",
      "4    6.0\n",
      "5    8.0\n",
      "dtype: float64\n"
     ]
    }
   ],
   "source": [
    "import numpy as np\n",
    "import pandas as pd\n",
    "\n",
    "# Creating a Series by passing a list of values, \n",
    "# letting pandas create a default integer index\n",
    "s = pd.Series([1, 3, 5, np.nan, 6, 8])\n",
    "\n",
    "print(s)"
   ]
  },
  {
   "cell_type": "code",
   "execution_count": 3,
   "metadata": {
    "colab": {
     "base_uri": "https://localhost:8080/",
     "height": 225
    },
    "colab_type": "code",
    "executionInfo": {
     "elapsed": 817,
     "status": "ok",
     "timestamp": 1569980246185,
     "user": {
      "displayName": "ML Lo",
      "photoUrl": "",
      "userId": "11511065297651515564"
     },
     "user_tz": -480
    },
    "id": "pwlUlvSAmmnE",
    "outputId": "75f49496-e020-419c-c7c0-c7c80b59ee27"
   },
   "outputs": [
    {
     "name": "stdout",
     "output_type": "stream",
     "text": [
      "DatetimeIndex(['2019-10-02', '2019-10-03', '2019-10-04', '2019-10-05',\n",
      "               '2019-10-06', '2019-10-07', '2019-10-08', '2019-10-09'],\n",
      "              dtype='datetime64[ns]', freq='D')\n",
      "                   A         B         S         T\n",
      "2019-10-02  0.777138 -0.267269  0.119741 -0.020885\n",
      "2019-10-03  0.385544  0.322240  0.720011 -0.065756\n",
      "2019-10-04  1.544209 -0.333866 -0.084708  1.507389\n",
      "2019-10-05  0.549199  0.941824 -0.283344 -0.539447\n",
      "2019-10-06  1.222607  0.662078  0.175813  1.088437\n",
      "2019-10-07  0.100213  0.667455 -1.890335  0.535583\n",
      "2019-10-08 -0.905007  0.523236 -0.809862  1.182063\n",
      "2019-10-09 -1.603967  1.480507 -0.891274 -0.419382\n"
     ]
    }
   ],
   "source": [
    "# Creating a DataFrame\n",
    "\n",
    "# first create an pandas index\n",
    "dates = pd.date_range('20191002', periods=8)\n",
    "print(dates)\n",
    "\n",
    "# create a data frame by supplying:\n",
    "# 1. the data \n",
    "# 2. an index \n",
    "# 3. a list of column labels\n",
    "df = pd.DataFrame(np.random.randn(8, 4), index=dates, columns=list('ABST'))\n",
    "print(df)"
   ]
  },
  {
   "cell_type": "code",
   "execution_count": 4,
   "metadata": {
    "colab": {
     "base_uri": "https://localhost:8080/",
     "height": 312
    },
    "colab_type": "code",
    "executionInfo": {
     "elapsed": 851,
     "status": "ok",
     "timestamp": 1569980378527,
     "user": {
      "displayName": "ML Lo",
      "photoUrl": "",
      "userId": "11511065297651515564"
     },
     "user_tz": -480
    },
    "id": "E5QP2m6uno-6",
    "outputId": "53bc65fe-abdb-4e2f-c07a-2621bc66d7c7"
   },
   "outputs": [
    {
     "name": "stdout",
     "output_type": "stream",
     "text": [
      "The content of df2 is:-----------\n",
      "      A          B    C  D      E    F\n",
      "2  1.0 2013-01-02  1.0  3   test  foo\n",
      "3  1.0 2013-01-02  1.0  3  train  foo\n",
      "4  1.0 2013-01-02  1.0  3   test  foo\n",
      "5  1.0 2013-01-02  1.0  3  train  foo\n",
      "6  1.0 2013-01-02  1.0  3   test  foo\n",
      "7  1.0 2013-01-02  1.0  3  train  foo\n",
      "\n",
      "The data types of the columns of df2 are:--------\n",
      " A           float64\n",
      "B    datetime64[ns]\n",
      "C           float32\n",
      "D             int32\n",
      "E          category\n",
      "F            object\n",
      "dtype: object\n"
     ]
    }
   ],
   "source": [
    "import numpy as np\n",
    "import pandas as pd\n",
    "\n",
    "# Creating a DataFrame by passing:\n",
    "#     a dictionary of objects.\n",
    "#     Each entry in the dictionary describes a column.\n",
    "\n",
    "# Note: Because columne 'C' has an index, that index is used as the index of the dataFrame\n",
    "\n",
    "df2 = pd.DataFrame({'A': 1.,\n",
    "                    'B': pd.Timestamp('20130102'),\n",
    "                    'C': pd.Series(1, index=list(range(2, 8)), dtype='float32'),\n",
    "                    'D': np.array([3] * 6, dtype='int32'),\n",
    "                    'E': pd.Categorical([\"test\", \"train\", \"test\", \"train\", \"test\", \"train\"]),\n",
    "                    'F': 'foo'})\n",
    "\n",
    "print(\"The content of df2 is:-----------\\n\", df2)\n",
    "\n",
    "print(\"\\nThe data types of the columns of df2 are:--------\\n\",df2.dtypes)"
   ]
  },
  {
   "cell_type": "markdown",
   "metadata": {
    "colab_type": "text",
    "id": "4lNFuOL0aE9N"
   },
   "source": [
    "### Viewing data\n",
    "\n",
    "In practice, pandas usually deals with very large data.  Often we want to get a feeling of the dataset, but we don't want to print out the whole dataset, because it would be too big.  \n",
    "\n",
    "We can use the following functions to explore the dataset:\n",
    "* dataframe.head(): view the top rows of data\n",
    "* dataframe.tail(): view the bottom rows of data \n",
    "* dataframe.index attribute: describe the index\n",
    "* dataframe.columns attribute: descrube the column names and type."
   ]
  },
  {
   "cell_type": "code",
   "execution_count": 5,
   "metadata": {
    "colab": {
     "base_uri": "https://localhost:8080/",
     "height": 399
    },
    "colab_type": "code",
    "executionInfo": {
     "elapsed": 921,
     "status": "ok",
     "timestamp": 1569980554702,
     "user": {
      "displayName": "ML Lo",
      "photoUrl": "",
      "userId": "11511065297651515564"
     },
     "user_tz": -480
    },
    "id": "BeV9m4jMaJ8R",
    "outputId": "0077949d-0de6-4c06-bdae-ff676a14e124"
   },
   "outputs": [
    {
     "name": "stdout",
     "output_type": "stream",
     "text": [
      "     A          B    C  D      E    F\n",
      "2  1.0 2013-01-02  1.0  3   test  foo\n",
      "3  1.0 2013-01-02  1.0  3  train  foo\n",
      "4  1.0 2013-01-02  1.0  3   test  foo\n",
      "5  1.0 2013-01-02  1.0  3  train  foo\n",
      "6  1.0 2013-01-02  1.0  3   test  foo\n",
      "\n",
      "      A          B    C  D      E    F\n",
      "2  1.0 2013-01-02  1.0  3   test  foo\n",
      "3  1.0 2013-01-02  1.0  3  train  foo\n",
      "4  1.0 2013-01-02  1.0  3   test  foo\n",
      "\n",
      "      A          B    C  D      E    F\n",
      "3  1.0 2013-01-02  1.0  3  train  foo\n",
      "4  1.0 2013-01-02  1.0  3   test  foo\n",
      "5  1.0 2013-01-02  1.0  3  train  foo\n",
      "6  1.0 2013-01-02  1.0  3   test  foo\n",
      "7  1.0 2013-01-02  1.0  3  train  foo\n",
      "\n",
      "      A          B    C  D      E    F\n",
      "6  1.0 2013-01-02  1.0  3   test  foo\n",
      "7  1.0 2013-01-02  1.0  3  train  foo\n"
     ]
    }
   ],
   "source": [
    "print(df2.head())   # return the first few rows (default is usually 5 rows)\n",
    "\n",
    "print(\"\\n\", df2.head(3))   # return the first three rows\n",
    "\n",
    "print(\"\\n\", df2.tail())  # return the last few rows (default is usually 5)\n",
    "\n",
    "print(\"\\n\", df2.tail(2))  # return the last 2 rows"
   ]
  },
  {
   "cell_type": "code",
   "execution_count": 6,
   "metadata": {
    "colab": {
     "base_uri": "https://localhost:8080/",
     "height": 51
    },
    "colab_type": "code",
    "executionInfo": {
     "elapsed": 791,
     "status": "ok",
     "timestamp": 1569980580146,
     "user": {
      "displayName": "ML Lo",
      "photoUrl": "",
      "userId": "11511065297651515564"
     },
     "user_tz": -480
    },
    "id": "3fP-K_0fbo0N",
    "outputId": "ef8be8a3-6a3f-45db-e009-4da198f38dd6"
   },
   "outputs": [
    {
     "name": "stdout",
     "output_type": "stream",
     "text": [
      "The index of df2 is: Int64Index([2, 3, 4, 5, 6, 7], dtype='int64')\n",
      "The columns of df2 are: Index(['A', 'B', 'C', 'D', 'E', 'F'], dtype='object')\n"
     ]
    }
   ],
   "source": [
    "# view the index\n",
    "print(\"The index of df2 is:\", df2.index)\n",
    "\n",
    "# view the column names\n",
    "print(\"The columns of df2 are:\", df2.columns)"
   ]
  },
  {
   "cell_type": "markdown",
   "metadata": {
    "colab_type": "text",
    "id": "ZRnqbebPdQMO"
   },
   "source": [
    "#### Converting Pandas data to NumPy\n",
    "\n",
    "DataFrame.to_numpy() gives a NumPy representation of the underlying data. Note that his can be an expensive operation when your DataFrame has columns with different data types, which comes down to a fundamental difference between pandas and NumPy: NumPy arrays have one dtype for the entire array, while pandas DataFrames have one dtype per column. When you call DataFrame.to_numpy(), pandas will find the NumPy dtype that can hold all of the dtypes in the DataFrame. This may end up being object, which requires casting every value to a Python object.\n",
    "\n",
    "For df, our DataFrame of all floating-point values, DataFrame.to_numpy() is fast and doesn’t require copying data.\n",
    "\n",
    "**Note** DataFrame.to_numpy() does not include the index or column labels in the output."
   ]
  },
  {
   "cell_type": "code",
   "execution_count": 0,
   "metadata": {
    "colab": {
     "base_uri": "https://localhost:8080/",
     "height": 134
    },
    "colab_type": "code",
    "executionInfo": {
     "elapsed": 792,
     "status": "ok",
     "timestamp": 1569225850747,
     "user": {
      "displayName": "ML Lo",
      "photoUrl": "",
      "userId": "11511065297651515564"
     },
     "user_tz": -480
    },
    "id": "STs-w3x9dMBv",
    "outputId": "11a23123-8fc9-424b-ace5-9792420a83db"
   },
   "outputs": [
    {
     "data": {
      "text/plain": [
       "array([[1.0, Timestamp('2013-01-02 00:00:00'), 1.0, 3, 'test', 'foo'],\n",
       "       [1.0, Timestamp('2013-01-02 00:00:00'), 1.0, 3, 'train', 'foo'],\n",
       "       [1.0, Timestamp('2013-01-02 00:00:00'), 1.0, 3, 'test', 'foo'],\n",
       "       [1.0, Timestamp('2013-01-02 00:00:00'), 1.0, 3, 'train', 'foo'],\n",
       "       [1.0, Timestamp('2013-01-02 00:00:00'), 1.0, 3, 'test', 'foo'],\n",
       "       [1.0, Timestamp('2013-01-02 00:00:00'), 1.0, 3, 'train', 'foo']],\n",
       "      dtype=object)"
      ]
     },
     "execution_count": 29,
     "metadata": {
      "tags": []
     },
     "output_type": "execute_result"
    }
   ],
   "source": [
    "### Converting Pandas data to numpy\n",
    "#to_numpy() is supported only on Pandas 0.24.2 and later.  It is not supported on 0.22.0 and before\n",
    "df2.to_numpy()\n",
    "\n",
    "\n",
    "\n",
    "\n",
    "\n",
    "\n"
   ]
  },
  {
   "cell_type": "markdown",
   "metadata": {
    "colab_type": "text",
    "id": "EhVJVIOJffQi"
   },
   "source": [
    "#### Statistics\n",
    "You can find out the basic statistics of your data using describe()\n",
    "\n"
   ]
  },
  {
   "cell_type": "code",
   "execution_count": 7,
   "metadata": {
    "colab": {
     "base_uri": "https://localhost:8080/",
     "height": 173
    },
    "colab_type": "code",
    "executionInfo": {
     "elapsed": 868,
     "status": "ok",
     "timestamp": 1569980712273,
     "user": {
      "displayName": "ML Lo",
      "photoUrl": "",
      "userId": "11511065297651515564"
     },
     "user_tz": -480
    },
    "id": "Y6CfP7OGgoMk",
    "outputId": "b3db6e16-6d53-4c59-ef3d-fa85b6d64634"
   },
   "outputs": [
    {
     "name": "stdout",
     "output_type": "stream",
     "text": [
      "              A         B         S         T\n",
      "count  8.000000  8.000000  8.000000  8.000000\n",
      "mean   0.258742  0.499526 -0.367995  0.408500\n",
      "std    1.055581  0.600843  0.809883  0.781729\n",
      "min   -1.603967 -0.333866 -1.890335 -0.539447\n",
      "25%   -0.151092  0.174863 -0.830215 -0.154162\n",
      "50%    0.467372  0.592657 -0.184026  0.257349\n",
      "75%    0.888505  0.736048  0.133759  1.111843\n",
      "max    1.544209  1.480507  0.720011  1.507389\n"
     ]
    }
   ],
   "source": [
    "# Statistics\n",
    "print(df.describe())\n"
   ]
  },
  {
   "cell_type": "code",
   "execution_count": 0,
   "metadata": {
    "colab": {
     "base_uri": "https://localhost:8080/",
     "height": 117
    },
    "colab_type": "code",
    "executionInfo": {
     "elapsed": 732,
     "status": "ok",
     "timestamp": 1569225937077,
     "user": {
      "displayName": "ML Lo",
      "photoUrl": "",
      "userId": "11511065297651515564"
     },
     "user_tz": -480
    },
    "id": "sc07neiFgzO8",
    "outputId": "cd9fbb87-c301-49cf-b1a3-06cb44ff02a0"
   },
   "outputs": [
    {
     "name": "stdout",
     "output_type": "stream",
     "text": [
      "   2013-01-01  2013-01-02  2013-01-03  2013-01-04  2013-01-05  2013-01-06\n",
      "A    0.000000   -1.156894    0.328778   -0.447283    0.616268   -0.756414\n",
      "B    0.000000   -0.342540    0.385815   -0.004269    1.219283    0.369195\n",
      "C    0.590937   -0.457856   -0.274591    2.525190   -0.313061    1.074602\n",
      "D    5.000000    5.000000    5.000000    5.000000    5.000000    5.000000\n",
      "F         NaN    1.000000    2.000000    3.000000    4.000000    5.000000\n"
     ]
    }
   ],
   "source": [
    "# Transpose\n",
    "\n",
    "print(df.T)"
   ]
  },
  {
   "cell_type": "code",
   "execution_count": 18,
   "metadata": {
    "colab": {
     "base_uri": "https://localhost:8080/",
     "height": 293
    },
    "colab_type": "code",
    "executionInfo": {
     "elapsed": 805,
     "status": "ok",
     "timestamp": 1569980965601,
     "user": {
      "displayName": "ML Lo",
      "photoUrl": "",
      "userId": "11511065297651515564"
     },
     "user_tz": -480
    },
    "id": "-wfTPJzJg9gL",
    "outputId": "09965edf-2df3-40f8-e6be-0644ba251e50"
   },
   "outputs": [
    {
     "data": {
      "text/html": [
       "<div>\n",
       "<style scoped>\n",
       "    .dataframe tbody tr th:only-of-type {\n",
       "        vertical-align: middle;\n",
       "    }\n",
       "\n",
       "    .dataframe tbody tr th {\n",
       "        vertical-align: top;\n",
       "    }\n",
       "\n",
       "    .dataframe thead th {\n",
       "        text-align: right;\n",
       "    }\n",
       "</style>\n",
       "<table border=\"1\" class=\"dataframe\">\n",
       "  <thead>\n",
       "    <tr style=\"text-align: right;\">\n",
       "      <th></th>\n",
       "      <th>A</th>\n",
       "      <th>B</th>\n",
       "      <th>S</th>\n",
       "      <th>T</th>\n",
       "    </tr>\n",
       "  </thead>\n",
       "  <tbody>\n",
       "    <tr>\n",
       "      <th>2019-10-09</th>\n",
       "      <td>-1.603967</td>\n",
       "      <td>1.480507</td>\n",
       "      <td>-0.891274</td>\n",
       "      <td>-0.419382</td>\n",
       "    </tr>\n",
       "    <tr>\n",
       "      <th>2019-10-08</th>\n",
       "      <td>-0.905007</td>\n",
       "      <td>0.523236</td>\n",
       "      <td>-0.809862</td>\n",
       "      <td>1.182063</td>\n",
       "    </tr>\n",
       "    <tr>\n",
       "      <th>2019-10-07</th>\n",
       "      <td>0.100213</td>\n",
       "      <td>0.667455</td>\n",
       "      <td>-1.890335</td>\n",
       "      <td>0.535583</td>\n",
       "    </tr>\n",
       "    <tr>\n",
       "      <th>2019-10-06</th>\n",
       "      <td>1.222607</td>\n",
       "      <td>0.662078</td>\n",
       "      <td>0.175813</td>\n",
       "      <td>1.088437</td>\n",
       "    </tr>\n",
       "    <tr>\n",
       "      <th>2019-10-05</th>\n",
       "      <td>0.549199</td>\n",
       "      <td>0.941824</td>\n",
       "      <td>-0.283344</td>\n",
       "      <td>-0.539447</td>\n",
       "    </tr>\n",
       "    <tr>\n",
       "      <th>2019-10-04</th>\n",
       "      <td>1.544209</td>\n",
       "      <td>-0.333866</td>\n",
       "      <td>-0.084708</td>\n",
       "      <td>1.507389</td>\n",
       "    </tr>\n",
       "    <tr>\n",
       "      <th>2019-10-03</th>\n",
       "      <td>0.385544</td>\n",
       "      <td>0.322240</td>\n",
       "      <td>0.720011</td>\n",
       "      <td>-0.065756</td>\n",
       "    </tr>\n",
       "    <tr>\n",
       "      <th>2019-10-02</th>\n",
       "      <td>0.777138</td>\n",
       "      <td>-0.267269</td>\n",
       "      <td>0.119741</td>\n",
       "      <td>-0.020885</td>\n",
       "    </tr>\n",
       "  </tbody>\n",
       "</table>\n",
       "</div>"
      ],
      "text/plain": [
       "                   A         B         S         T\n",
       "2019-10-09 -1.603967  1.480507 -0.891274 -0.419382\n",
       "2019-10-08 -0.905007  0.523236 -0.809862  1.182063\n",
       "2019-10-07  0.100213  0.667455 -1.890335  0.535583\n",
       "2019-10-06  1.222607  0.662078  0.175813  1.088437\n",
       "2019-10-05  0.549199  0.941824 -0.283344 -0.539447\n",
       "2019-10-04  1.544209 -0.333866 -0.084708  1.507389\n",
       "2019-10-03  0.385544  0.322240  0.720011 -0.065756\n",
       "2019-10-02  0.777138 -0.267269  0.119741 -0.020885"
      ]
     },
     "execution_count": 18,
     "metadata": {
      "tags": []
     },
     "output_type": "execute_result"
    }
   ],
   "source": [
    "# Sort data by an axis\n",
    "# In this example, we sort by Y-axis in descending order\n",
    "\n",
    "df.sort_index(axis=0, ascending=False)   \n"
   ]
  },
  {
   "cell_type": "code",
   "execution_count": 20,
   "metadata": {
    "colab": {
     "base_uri": "https://localhost:8080/",
     "height": 293
    },
    "colab_type": "code",
    "executionInfo": {
     "elapsed": 822,
     "status": "ok",
     "timestamp": 1569981042450,
     "user": {
      "displayName": "ML Lo",
      "photoUrl": "",
      "userId": "11511065297651515564"
     },
     "user_tz": -480
    },
    "id": "whJ2Ml68hkxz",
    "outputId": "e85b74f3-c558-43f9-9a2b-52d6a9c17b80"
   },
   "outputs": [
    {
     "data": {
      "text/html": [
       "<div>\n",
       "<style scoped>\n",
       "    .dataframe tbody tr th:only-of-type {\n",
       "        vertical-align: middle;\n",
       "    }\n",
       "\n",
       "    .dataframe tbody tr th {\n",
       "        vertical-align: top;\n",
       "    }\n",
       "\n",
       "    .dataframe thead th {\n",
       "        text-align: right;\n",
       "    }\n",
       "</style>\n",
       "<table border=\"1\" class=\"dataframe\">\n",
       "  <thead>\n",
       "    <tr style=\"text-align: right;\">\n",
       "      <th></th>\n",
       "      <th>A</th>\n",
       "      <th>B</th>\n",
       "      <th>S</th>\n",
       "      <th>T</th>\n",
       "    </tr>\n",
       "  </thead>\n",
       "  <tbody>\n",
       "    <tr>\n",
       "      <th>2019-10-07</th>\n",
       "      <td>0.100213</td>\n",
       "      <td>0.667455</td>\n",
       "      <td>-1.890335</td>\n",
       "      <td>0.535583</td>\n",
       "    </tr>\n",
       "    <tr>\n",
       "      <th>2019-10-09</th>\n",
       "      <td>-1.603967</td>\n",
       "      <td>1.480507</td>\n",
       "      <td>-0.891274</td>\n",
       "      <td>-0.419382</td>\n",
       "    </tr>\n",
       "    <tr>\n",
       "      <th>2019-10-08</th>\n",
       "      <td>-0.905007</td>\n",
       "      <td>0.523236</td>\n",
       "      <td>-0.809862</td>\n",
       "      <td>1.182063</td>\n",
       "    </tr>\n",
       "    <tr>\n",
       "      <th>2019-10-05</th>\n",
       "      <td>0.549199</td>\n",
       "      <td>0.941824</td>\n",
       "      <td>-0.283344</td>\n",
       "      <td>-0.539447</td>\n",
       "    </tr>\n",
       "    <tr>\n",
       "      <th>2019-10-04</th>\n",
       "      <td>1.544209</td>\n",
       "      <td>-0.333866</td>\n",
       "      <td>-0.084708</td>\n",
       "      <td>1.507389</td>\n",
       "    </tr>\n",
       "    <tr>\n",
       "      <th>2019-10-02</th>\n",
       "      <td>0.777138</td>\n",
       "      <td>-0.267269</td>\n",
       "      <td>0.119741</td>\n",
       "      <td>-0.020885</td>\n",
       "    </tr>\n",
       "    <tr>\n",
       "      <th>2019-10-06</th>\n",
       "      <td>1.222607</td>\n",
       "      <td>0.662078</td>\n",
       "      <td>0.175813</td>\n",
       "      <td>1.088437</td>\n",
       "    </tr>\n",
       "    <tr>\n",
       "      <th>2019-10-03</th>\n",
       "      <td>0.385544</td>\n",
       "      <td>0.322240</td>\n",
       "      <td>0.720011</td>\n",
       "      <td>-0.065756</td>\n",
       "    </tr>\n",
       "  </tbody>\n",
       "</table>\n",
       "</div>"
      ],
      "text/plain": [
       "                   A         B         S         T\n",
       "2019-10-07  0.100213  0.667455 -1.890335  0.535583\n",
       "2019-10-09 -1.603967  1.480507 -0.891274 -0.419382\n",
       "2019-10-08 -0.905007  0.523236 -0.809862  1.182063\n",
       "2019-10-05  0.549199  0.941824 -0.283344 -0.539447\n",
       "2019-10-04  1.544209 -0.333866 -0.084708  1.507389\n",
       "2019-10-02  0.777138 -0.267269  0.119741 -0.020885\n",
       "2019-10-06  1.222607  0.662078  0.175813  1.088437\n",
       "2019-10-03  0.385544  0.322240  0.720011 -0.065756"
      ]
     },
     "execution_count": 20,
     "metadata": {
      "tags": []
     },
     "output_type": "execute_result"
    }
   ],
   "source": [
    "# Sort by values of certain column\n",
    "df.sort_values(by='S')   # In this example, we sort by the values of column B"
   ]
  },
  {
   "cell_type": "markdown",
   "metadata": {
    "colab_type": "text",
    "id": "bUNiNXIbln7K"
   },
   "source": [
    "### Select a subset from the data"
   ]
  },
  {
   "cell_type": "markdown",
   "metadata": {
    "colab_type": "text",
    "id": "DbjuYjHSNpag"
   },
   "source": [
    "#### Select by [ ]"
   ]
  },
  {
   "cell_type": "code",
   "execution_count": 22,
   "metadata": {
    "colab": {
     "base_uri": "https://localhost:8080/",
     "height": 173
    },
    "colab_type": "code",
    "executionInfo": {
     "elapsed": 779,
     "status": "ok",
     "timestamp": 1569981160063,
     "user": {
      "displayName": "ML Lo",
      "photoUrl": "",
      "userId": "11511065297651515564"
     },
     "user_tz": -480
    },
    "id": "anc1eQJslrLU",
    "outputId": "40a1bb8e-2f3d-49a5-bb9b-ca7c7c761b27"
   },
   "outputs": [
    {
     "data": {
      "text/plain": [
       "2019-10-02    0.119741\n",
       "2019-10-03    0.720011\n",
       "2019-10-04   -0.084708\n",
       "2019-10-05   -0.283344\n",
       "2019-10-06    0.175813\n",
       "2019-10-07   -1.890335\n",
       "2019-10-08   -0.809862\n",
       "2019-10-09   -0.891274\n",
       "Freq: D, Name: S, dtype: float64"
      ]
     },
     "execution_count": 22,
     "metadata": {
      "tags": []
     },
     "output_type": "execute_result"
    }
   ],
   "source": [
    "# select a subset of columns\n",
    "df['S']"
   ]
  },
  {
   "cell_type": "code",
   "execution_count": 24,
   "metadata": {
    "colab": {
     "base_uri": "https://localhost:8080/",
     "height": 173
    },
    "colab_type": "code",
    "executionInfo": {
     "elapsed": 792,
     "status": "ok",
     "timestamp": 1569981182901,
     "user": {
      "displayName": "ML Lo",
      "photoUrl": "",
      "userId": "11511065297651515564"
     },
     "user_tz": -480
    },
    "id": "NTCyv_2dluWJ",
    "outputId": "b6389e26-ceb7-4ebf-a98a-2c769f2ca26b"
   },
   "outputs": [
    {
     "data": {
      "text/plain": [
       "2019-10-02   -0.267269\n",
       "2019-10-03    0.322240\n",
       "2019-10-04   -0.333866\n",
       "2019-10-05    0.941824\n",
       "2019-10-06    0.662078\n",
       "2019-10-07    0.667455\n",
       "2019-10-08    0.523236\n",
       "2019-10-09    1.480507\n",
       "Freq: D, Name: B, dtype: float64"
      ]
     },
     "execution_count": 24,
     "metadata": {
      "tags": []
     },
     "output_type": "execute_result"
    }
   ],
   "source": [
    "df.B"
   ]
  },
  {
   "cell_type": "code",
   "execution_count": 26,
   "metadata": {
    "colab": {
     "base_uri": "https://localhost:8080/",
     "height": 171
    },
    "colab_type": "code",
    "executionInfo": {
     "elapsed": 923,
     "status": "ok",
     "timestamp": 1569981210086,
     "user": {
      "displayName": "ML Lo",
      "photoUrl": "",
      "userId": "11511065297651515564"
     },
     "user_tz": -480
    },
    "id": "Tzg06lBDlvpR",
    "outputId": "dda61064-39d8-4e17-b01e-e77d96a6cf5e"
   },
   "outputs": [
    {
     "data": {
      "text/html": [
       "<div>\n",
       "<style scoped>\n",
       "    .dataframe tbody tr th:only-of-type {\n",
       "        vertical-align: middle;\n",
       "    }\n",
       "\n",
       "    .dataframe tbody tr th {\n",
       "        vertical-align: top;\n",
       "    }\n",
       "\n",
       "    .dataframe thead th {\n",
       "        text-align: right;\n",
       "    }\n",
       "</style>\n",
       "<table border=\"1\" class=\"dataframe\">\n",
       "  <thead>\n",
       "    <tr style=\"text-align: right;\">\n",
       "      <th></th>\n",
       "      <th>A</th>\n",
       "      <th>B</th>\n",
       "      <th>S</th>\n",
       "      <th>T</th>\n",
       "    </tr>\n",
       "  </thead>\n",
       "  <tbody>\n",
       "    <tr>\n",
       "      <th>2019-10-03</th>\n",
       "      <td>0.385544</td>\n",
       "      <td>0.322240</td>\n",
       "      <td>0.720011</td>\n",
       "      <td>-0.065756</td>\n",
       "    </tr>\n",
       "    <tr>\n",
       "      <th>2019-10-04</th>\n",
       "      <td>1.544209</td>\n",
       "      <td>-0.333866</td>\n",
       "      <td>-0.084708</td>\n",
       "      <td>1.507389</td>\n",
       "    </tr>\n",
       "    <tr>\n",
       "      <th>2019-10-05</th>\n",
       "      <td>0.549199</td>\n",
       "      <td>0.941824</td>\n",
       "      <td>-0.283344</td>\n",
       "      <td>-0.539447</td>\n",
       "    </tr>\n",
       "    <tr>\n",
       "      <th>2019-10-06</th>\n",
       "      <td>1.222607</td>\n",
       "      <td>0.662078</td>\n",
       "      <td>0.175813</td>\n",
       "      <td>1.088437</td>\n",
       "    </tr>\n",
       "  </tbody>\n",
       "</table>\n",
       "</div>"
      ],
      "text/plain": [
       "                   A         B         S         T\n",
       "2019-10-03  0.385544  0.322240  0.720011 -0.065756\n",
       "2019-10-04  1.544209 -0.333866 -0.084708  1.507389\n",
       "2019-10-05  0.549199  0.941824 -0.283344 -0.539447\n",
       "2019-10-06  1.222607  0.662078  0.175813  1.088437"
      ]
     },
     "execution_count": 26,
     "metadata": {
      "tags": []
     },
     "output_type": "execute_result"
    }
   ],
   "source": [
    "# select a subset of rows by row count numbers\n",
    "df[1:5]"
   ]
  },
  {
   "cell_type": "code",
   "execution_count": 27,
   "metadata": {
    "colab": {
     "base_uri": "https://localhost:8080/",
     "height": 171
    },
    "colab_type": "code",
    "executionInfo": {
     "elapsed": 816,
     "status": "ok",
     "timestamp": 1569981246090,
     "user": {
      "displayName": "ML Lo",
      "photoUrl": "",
      "userId": "11511065297651515564"
     },
     "user_tz": -480
    },
    "id": "d5ZYeKMIHRD_",
    "outputId": "845d92a7-5da4-4486-9966-d0e9c59fcdfc"
   },
   "outputs": [
    {
     "data": {
      "text/html": [
       "<div>\n",
       "<style scoped>\n",
       "    .dataframe tbody tr th:only-of-type {\n",
       "        vertical-align: middle;\n",
       "    }\n",
       "\n",
       "    .dataframe tbody tr th {\n",
       "        vertical-align: top;\n",
       "    }\n",
       "\n",
       "    .dataframe thead th {\n",
       "        text-align: right;\n",
       "    }\n",
       "</style>\n",
       "<table border=\"1\" class=\"dataframe\">\n",
       "  <thead>\n",
       "    <tr style=\"text-align: right;\">\n",
       "      <th></th>\n",
       "      <th>A</th>\n",
       "      <th>B</th>\n",
       "      <th>S</th>\n",
       "      <th>T</th>\n",
       "    </tr>\n",
       "  </thead>\n",
       "  <tbody>\n",
       "    <tr>\n",
       "      <th>2019-10-03</th>\n",
       "      <td>0.385544</td>\n",
       "      <td>0.322240</td>\n",
       "      <td>0.720011</td>\n",
       "      <td>-0.065756</td>\n",
       "    </tr>\n",
       "    <tr>\n",
       "      <th>2019-10-04</th>\n",
       "      <td>1.544209</td>\n",
       "      <td>-0.333866</td>\n",
       "      <td>-0.084708</td>\n",
       "      <td>1.507389</td>\n",
       "    </tr>\n",
       "    <tr>\n",
       "      <th>2019-10-05</th>\n",
       "      <td>0.549199</td>\n",
       "      <td>0.941824</td>\n",
       "      <td>-0.283344</td>\n",
       "      <td>-0.539447</td>\n",
       "    </tr>\n",
       "    <tr>\n",
       "      <th>2019-10-06</th>\n",
       "      <td>1.222607</td>\n",
       "      <td>0.662078</td>\n",
       "      <td>0.175813</td>\n",
       "      <td>1.088437</td>\n",
       "    </tr>\n",
       "  </tbody>\n",
       "</table>\n",
       "</div>"
      ],
      "text/plain": [
       "                   A         B         S         T\n",
       "2019-10-03  0.385544  0.322240  0.720011 -0.065756\n",
       "2019-10-04  1.544209 -0.333866 -0.084708  1.507389\n",
       "2019-10-05  0.549199  0.941824 -0.283344 -0.539447\n",
       "2019-10-06  1.222607  0.662078  0.175813  1.088437"
      ]
     },
     "execution_count": 27,
     "metadata": {
      "tags": []
     },
     "output_type": "execute_result"
    }
   ],
   "source": [
    "# select by index (more useful in real applications)\n",
    "df['20191003':'20191006']"
   ]
  },
  {
   "cell_type": "markdown",
   "metadata": {
    "colab_type": "text",
    "id": "Db2p585-OPtr"
   },
   "source": [
    "#### Select by labels\n",
    "\n",
    "Select rows by labels"
   ]
  },
  {
   "cell_type": "code",
   "execution_count": 28,
   "metadata": {
    "colab": {
     "base_uri": "https://localhost:8080/",
     "height": 242
    },
    "colab_type": "code",
    "executionInfo": {
     "elapsed": 829,
     "status": "ok",
     "timestamp": 1569981289977,
     "user": {
      "displayName": "ML Lo",
      "photoUrl": "",
      "userId": "11511065297651515564"
     },
     "user_tz": -480
    },
    "id": "FVg09nYpl3C1",
    "outputId": "225e7421-6385-4d2e-a36e-46ca516bbca2"
   },
   "outputs": [
    {
     "name": "stdout",
     "output_type": "stream",
     "text": [
      "A    0.777138\n",
      "B   -0.267269\n",
      "S    0.119741\n",
      "T   -0.020885\n",
      "Name: 2019-10-02 00:00:00, dtype: float64\n",
      "-------------\n",
      "                   A         B         S         T\n",
      "2019-10-03  0.385544  0.322240  0.720011 -0.065756\n",
      "2019-10-04  1.544209 -0.333866 -0.084708  1.507389\n",
      "-------------\n",
      "                   A         B         S         T\n",
      "2019-10-03  0.385544  0.322240  0.720011 -0.065756\n",
      "2019-10-05  0.549199  0.941824 -0.283344 -0.539447\n"
     ]
    }
   ],
   "source": [
    "# Select one row\n",
    "print(df.loc[dates[0]])\n",
    "\n",
    "# select two rows\n",
    "print('-------------')\n",
    "print(df.loc[dates[1:3]])\n",
    "\n",
    "# select two noncontiguous rows\n",
    "print('-------------')\n",
    "print( df.loc[ (dates[1], dates[3]), ])"
   ]
  },
  {
   "cell_type": "markdown",
   "metadata": {
    "colab_type": "text",
    "id": "9i6k9VEcQbk0"
   },
   "source": [
    "Select columns by lables"
   ]
  },
  {
   "cell_type": "code",
   "execution_count": 29,
   "metadata": {
    "colab": {
     "base_uri": "https://localhost:8080/",
     "height": 293
    },
    "colab_type": "code",
    "executionInfo": {
     "elapsed": 805,
     "status": "ok",
     "timestamp": 1569981361601,
     "user": {
      "displayName": "ML Lo",
      "photoUrl": "",
      "userId": "11511065297651515564"
     },
     "user_tz": -480
    },
    "id": "zi1ekLK1mU2Q",
    "outputId": "2248ccb6-eb79-4a92-c905-1f6ab8cea332"
   },
   "outputs": [
    {
     "data": {
      "text/html": [
       "<div>\n",
       "<style scoped>\n",
       "    .dataframe tbody tr th:only-of-type {\n",
       "        vertical-align: middle;\n",
       "    }\n",
       "\n",
       "    .dataframe tbody tr th {\n",
       "        vertical-align: top;\n",
       "    }\n",
       "\n",
       "    .dataframe thead th {\n",
       "        text-align: right;\n",
       "    }\n",
       "</style>\n",
       "<table border=\"1\" class=\"dataframe\">\n",
       "  <thead>\n",
       "    <tr style=\"text-align: right;\">\n",
       "      <th></th>\n",
       "      <th>A</th>\n",
       "      <th>S</th>\n",
       "    </tr>\n",
       "  </thead>\n",
       "  <tbody>\n",
       "    <tr>\n",
       "      <th>2019-10-02</th>\n",
       "      <td>0.777138</td>\n",
       "      <td>0.119741</td>\n",
       "    </tr>\n",
       "    <tr>\n",
       "      <th>2019-10-03</th>\n",
       "      <td>0.385544</td>\n",
       "      <td>0.720011</td>\n",
       "    </tr>\n",
       "    <tr>\n",
       "      <th>2019-10-04</th>\n",
       "      <td>1.544209</td>\n",
       "      <td>-0.084708</td>\n",
       "    </tr>\n",
       "    <tr>\n",
       "      <th>2019-10-05</th>\n",
       "      <td>0.549199</td>\n",
       "      <td>-0.283344</td>\n",
       "    </tr>\n",
       "    <tr>\n",
       "      <th>2019-10-06</th>\n",
       "      <td>1.222607</td>\n",
       "      <td>0.175813</td>\n",
       "    </tr>\n",
       "    <tr>\n",
       "      <th>2019-10-07</th>\n",
       "      <td>0.100213</td>\n",
       "      <td>-1.890335</td>\n",
       "    </tr>\n",
       "    <tr>\n",
       "      <th>2019-10-08</th>\n",
       "      <td>-0.905007</td>\n",
       "      <td>-0.809862</td>\n",
       "    </tr>\n",
       "    <tr>\n",
       "      <th>2019-10-09</th>\n",
       "      <td>-1.603967</td>\n",
       "      <td>-0.891274</td>\n",
       "    </tr>\n",
       "  </tbody>\n",
       "</table>\n",
       "</div>"
      ],
      "text/plain": [
       "                   A         S\n",
       "2019-10-02  0.777138  0.119741\n",
       "2019-10-03  0.385544  0.720011\n",
       "2019-10-04  1.544209 -0.084708\n",
       "2019-10-05  0.549199 -0.283344\n",
       "2019-10-06  1.222607  0.175813\n",
       "2019-10-07  0.100213 -1.890335\n",
       "2019-10-08 -0.905007 -0.809862\n",
       "2019-10-09 -1.603967 -0.891274"
      ]
     },
     "execution_count": 29,
     "metadata": {
      "tags": []
     },
     "output_type": "execute_result"
    }
   ],
   "source": [
    "df.loc[:,['A','S']]"
   ]
  },
  {
   "cell_type": "code",
   "execution_count": 31,
   "metadata": {
    "colab": {
     "base_uri": "https://localhost:8080/",
     "height": 140
    },
    "colab_type": "code",
    "executionInfo": {
     "elapsed": 811,
     "status": "ok",
     "timestamp": 1569981410472,
     "user": {
      "displayName": "ML Lo",
      "photoUrl": "",
      "userId": "11511065297651515564"
     },
     "user_tz": -480
    },
    "id": "6NhYyuU4meZK",
    "outputId": "49a56d9c-0317-4415-c5dc-15b8cbf0ff3a"
   },
   "outputs": [
    {
     "data": {
      "text/html": [
       "<div>\n",
       "<style scoped>\n",
       "    .dataframe tbody tr th:only-of-type {\n",
       "        vertical-align: middle;\n",
       "    }\n",
       "\n",
       "    .dataframe tbody tr th {\n",
       "        vertical-align: top;\n",
       "    }\n",
       "\n",
       "    .dataframe thead th {\n",
       "        text-align: right;\n",
       "    }\n",
       "</style>\n",
       "<table border=\"1\" class=\"dataframe\">\n",
       "  <thead>\n",
       "    <tr style=\"text-align: right;\">\n",
       "      <th></th>\n",
       "      <th>A</th>\n",
       "      <th>B</th>\n",
       "    </tr>\n",
       "  </thead>\n",
       "  <tbody>\n",
       "    <tr>\n",
       "      <th>2019-10-02</th>\n",
       "      <td>0.777138</td>\n",
       "      <td>-0.267269</td>\n",
       "    </tr>\n",
       "    <tr>\n",
       "      <th>2019-10-03</th>\n",
       "      <td>0.385544</td>\n",
       "      <td>0.322240</td>\n",
       "    </tr>\n",
       "    <tr>\n",
       "      <th>2019-10-04</th>\n",
       "      <td>1.544209</td>\n",
       "      <td>-0.333866</td>\n",
       "    </tr>\n",
       "  </tbody>\n",
       "</table>\n",
       "</div>"
      ],
      "text/plain": [
       "                   A         B\n",
       "2019-10-02  0.777138 -0.267269\n",
       "2019-10-03  0.385544  0.322240\n",
       "2019-10-04  1.544209 -0.333866"
      ]
     },
     "execution_count": 31,
     "metadata": {
      "tags": []
     },
     "output_type": "execute_result"
    }
   ],
   "source": [
    "# Select part of rows and part of columns\n",
    "df.loc['20191002':'20191004', ['A', 'B']]"
   ]
  },
  {
   "cell_type": "code",
   "execution_count": 0,
   "metadata": {
    "colab": {
     "base_uri": "https://localhost:8080/",
     "height": 67
    },
    "colab_type": "code",
    "executionInfo": {
     "elapsed": 3102,
     "status": "ok",
     "timestamp": 1569226258546,
     "user": {
      "displayName": "ML Lo",
      "photoUrl": "",
      "userId": "11511065297651515564"
     },
     "user_tz": -480
    },
    "id": "KK8uKiqEK7ak",
    "outputId": "6a3fb7df-de26-47d0-a3b4-60b4e0a0e19b"
   },
   "outputs": [
    {
     "data": {
      "text/plain": [
       "A   -1.156894\n",
       "B   -0.342540\n",
       "Name: 2013-01-02 00:00:00, dtype: float64"
      ]
     },
     "execution_count": 34,
     "metadata": {
      "tags": []
     },
     "output_type": "execute_result"
    }
   ],
   "source": [
    "# Reducing the dimension of return data\n",
    "# getting a 1 dimensional data\n",
    "df.loc['20130102', ['A', 'B']]"
   ]
  },
  {
   "cell_type": "code",
   "execution_count": 0,
   "metadata": {
    "colab": {
     "base_uri": "https://localhost:8080/",
     "height": 50
    },
    "colab_type": "code",
    "executionInfo": {
     "elapsed": 932,
     "status": "ok",
     "timestamp": 1569226410497,
     "user": {
      "displayName": "ML Lo",
      "photoUrl": "",
      "userId": "11511065297651515564"
     },
     "user_tz": -480
    },
    "id": "9Zfzwi_imvCx",
    "outputId": "bb8545cc-c25c-44cb-a7ec-62c0d0220dca"
   },
   "outputs": [
    {
     "name": "stdout",
     "output_type": "stream",
     "text": [
      "0.0\n",
      "0.0\n"
     ]
    }
   ],
   "source": [
    "# Getting a 0 dimensional data (scalar)\n",
    "# The following two operations have the same effect, but the 2nd one is faster\n",
    "print(df.loc[dates[0], 'A'])\n",
    "print(df.at[dates[0], 'A'])\n"
   ]
  },
  {
   "cell_type": "markdown",
   "metadata": {
    "colab_type": "text",
    "id": "i1kIy7j6Q2C_"
   },
   "source": [
    "#### Select by locations\n",
    "\n",
    "You can select data based on the location of the cells in the DataFrame, using the **DataFrame.iloc\\[ ]** mechanism.\n",
    "\n",
    "You can also select a single cell using the **DataFrame.iat\\[ ]** mechanism, which is faster than DataFrame.iloc\\[ ]."
   ]
  },
  {
   "cell_type": "code",
   "execution_count": 33,
   "metadata": {
    "colab": {
     "base_uri": "https://localhost:8080/",
     "height": 363
    },
    "colab_type": "code",
    "executionInfo": {
     "elapsed": 883,
     "status": "ok",
     "timestamp": 1569981571414,
     "user": {
      "displayName": "ML Lo",
      "photoUrl": "",
      "userId": "11511065297651515564"
     },
     "user_tz": -480
    },
    "id": "2ax0uu2inA0a",
    "outputId": "fdb0e9b3-3f95-4f89-9a09-3a234df35fed"
   },
   "outputs": [
    {
     "name": "stdout",
     "output_type": "stream",
     "text": [
      "                   A         S\n",
      "2019-10-03  0.385544  0.720011\n",
      "2019-10-04  1.544209 -0.084708\n",
      "2019-10-06  1.222607  0.175813\n"
     ]
    },
    {
     "data": {
      "text/html": [
       "<div>\n",
       "<style scoped>\n",
       "    .dataframe tbody tr th:only-of-type {\n",
       "        vertical-align: middle;\n",
       "    }\n",
       "\n",
       "    .dataframe tbody tr th {\n",
       "        vertical-align: top;\n",
       "    }\n",
       "\n",
       "    .dataframe thead th {\n",
       "        text-align: right;\n",
       "    }\n",
       "</style>\n",
       "<table border=\"1\" class=\"dataframe\">\n",
       "  <thead>\n",
       "    <tr style=\"text-align: right;\">\n",
       "      <th></th>\n",
       "      <th>B</th>\n",
       "      <th>S</th>\n",
       "    </tr>\n",
       "  </thead>\n",
       "  <tbody>\n",
       "    <tr>\n",
       "      <th>2019-10-02</th>\n",
       "      <td>-0.267269</td>\n",
       "      <td>0.119741</td>\n",
       "    </tr>\n",
       "    <tr>\n",
       "      <th>2019-10-03</th>\n",
       "      <td>0.322240</td>\n",
       "      <td>0.720011</td>\n",
       "    </tr>\n",
       "    <tr>\n",
       "      <th>2019-10-04</th>\n",
       "      <td>-0.333866</td>\n",
       "      <td>-0.084708</td>\n",
       "    </tr>\n",
       "    <tr>\n",
       "      <th>2019-10-05</th>\n",
       "      <td>0.941824</td>\n",
       "      <td>-0.283344</td>\n",
       "    </tr>\n",
       "    <tr>\n",
       "      <th>2019-10-06</th>\n",
       "      <td>0.662078</td>\n",
       "      <td>0.175813</td>\n",
       "    </tr>\n",
       "    <tr>\n",
       "      <th>2019-10-07</th>\n",
       "      <td>0.667455</td>\n",
       "      <td>-1.890335</td>\n",
       "    </tr>\n",
       "    <tr>\n",
       "      <th>2019-10-08</th>\n",
       "      <td>0.523236</td>\n",
       "      <td>-0.809862</td>\n",
       "    </tr>\n",
       "    <tr>\n",
       "      <th>2019-10-09</th>\n",
       "      <td>1.480507</td>\n",
       "      <td>-0.891274</td>\n",
       "    </tr>\n",
       "  </tbody>\n",
       "</table>\n",
       "</div>"
      ],
      "text/plain": [
       "                   B         S\n",
       "2019-10-02 -0.267269  0.119741\n",
       "2019-10-03  0.322240  0.720011\n",
       "2019-10-04 -0.333866 -0.084708\n",
       "2019-10-05  0.941824 -0.283344\n",
       "2019-10-06  0.662078  0.175813\n",
       "2019-10-07  0.667455 -1.890335\n",
       "2019-10-08  0.523236 -0.809862\n",
       "2019-10-09  1.480507 -0.891274"
      ]
     },
     "execution_count": 33,
     "metadata": {
      "tags": []
     },
     "output_type": "execute_result"
    }
   ],
   "source": [
    "# Select by specifying the positions\n",
    "df.iloc[3]\n",
    "df.iloc[3:5, 0:2]\n",
    "print(df.iloc[[1, 2, 4], [0, 2]])\n",
    "df.iloc[1:3, :]\n",
    "df.iloc[:, 1:3]"
   ]
  },
  {
   "cell_type": "code",
   "execution_count": 0,
   "metadata": {
    "colab": {},
    "colab_type": "code",
    "id": "51JxrqWcnWym"
   },
   "outputs": [],
   "source": [
    "# Specify a single value by position\n",
    "# The following two operations have the same effect, but the 2nd one is faster\n",
    "df.iloc[1, 1]\n",
    "df.iat[1, 1]\n"
   ]
  },
  {
   "cell_type": "markdown",
   "metadata": {
    "colab_type": "text",
    "id": "N15oiIwMnqKY"
   },
   "source": [
    "#### Selection by condition (Boolean indexing)\n",
    "\n",
    "Selection by condition works on DataFrame\\[ ] itself, and work on DataFrame.loc\\[ ]"
   ]
  },
  {
   "cell_type": "code",
   "execution_count": 36,
   "metadata": {
    "colab": {
     "base_uri": "https://localhost:8080/",
     "height": 277
    },
    "colab_type": "code",
    "executionInfo": {
     "elapsed": 800,
     "status": "ok",
     "timestamp": 1569981830536,
     "user": {
      "displayName": "ML Lo",
      "photoUrl": "",
      "userId": "11511065297651515564"
     },
     "user_tz": -480
    },
    "id": "swQz3lLGnvXa",
    "outputId": "444c7a70-3701-42d7-c4c6-be7c639f747d"
   },
   "outputs": [
    {
     "name": "stdout",
     "output_type": "stream",
     "text": [
      "                   A         B         S         T\n",
      "2019-10-04  1.544209 -0.333866 -0.084708  1.507389\n",
      "2019-10-06  1.222607  0.662078  0.175813  1.088437\n",
      "                   A         B         S         T\n",
      "2019-10-02  0.777138 -0.267269  0.119741 -0.020885\n",
      "2019-10-04  1.544209 -0.333866 -0.084708  1.507389\n",
      "2019-10-05  0.549199  0.941824 -0.283344 -0.539447\n",
      "2019-10-06  1.222607  0.662078  0.175813  1.088437\n",
      "                   A         B         S         T\n",
      "2019-10-02  0.777138 -0.267269  0.119741 -0.020885\n",
      "2019-10-03  0.385544  0.322240  0.720011 -0.065756\n",
      "2019-10-04  1.544209 -0.333866 -0.084708  1.507389\n",
      "2019-10-05  0.549199  0.941824 -0.283344 -0.539447\n",
      "2019-10-06  1.222607  0.662078  0.175813  1.088437\n",
      "2019-10-07  0.100213  0.667455 -1.890335  0.535583\n"
     ]
    }
   ],
   "source": [
    "# Select all rows whose column A value > 0\n",
    "print(df[df.A > 1.0])\n",
    "print(df.loc[df.A > 0.5])\n",
    "print(df.loc[df['A'] >0])"
   ]
  },
  {
   "cell_type": "code",
   "execution_count": 37,
   "metadata": {
    "colab": {
     "base_uri": "https://localhost:8080/",
     "height": 173
    },
    "colab_type": "code",
    "executionInfo": {
     "elapsed": 1406,
     "status": "ok",
     "timestamp": 1569981928157,
     "user": {
      "displayName": "ML Lo",
      "photoUrl": "",
      "userId": "11511065297651515564"
     },
     "user_tz": -480
    },
    "id": "LOIHRN6Pn83c",
    "outputId": "e677842d-390d-402e-bcaa-d6a3643f73f1"
   },
   "outputs": [
    {
     "name": "stdout",
     "output_type": "stream",
     "text": [
      "                   A         B         S         T\n",
      "2019-10-02  0.777138       NaN  0.119741       NaN\n",
      "2019-10-03  0.385544  0.322240  0.720011       NaN\n",
      "2019-10-04  1.544209       NaN       NaN  1.507389\n",
      "2019-10-05  0.549199  0.941824       NaN       NaN\n",
      "2019-10-06  1.222607  0.662078  0.175813  1.088437\n",
      "2019-10-07  0.100213  0.667455       NaN  0.535583\n",
      "2019-10-08       NaN  0.523236       NaN  1.182063\n",
      "2019-10-09       NaN  1.480507       NaN       NaN\n"
     ]
    }
   ],
   "source": [
    "# Display all cells whose value > 0\n",
    "# This trick has no DataFrame.loc[] correspondence.\n",
    "print(df[df > 0])\n",
    "\n",
    "\n"
   ]
  },
  {
   "cell_type": "code",
   "execution_count": 40,
   "metadata": {
    "colab": {
     "base_uri": "https://localhost:8080/",
     "height": 399
    },
    "colab_type": "code",
    "executionInfo": {
     "elapsed": 802,
     "status": "ok",
     "timestamp": 1569982123660,
     "user": {
      "displayName": "ML Lo",
      "photoUrl": "",
      "userId": "11511065297651515564"
     },
     "user_tz": -480
    },
    "id": "JrydI3mroau8",
    "outputId": "6cb609ae-bb5c-4357-c6da-181f11e635a8"
   },
   "outputs": [
    {
     "name": "stdout",
     "output_type": "stream",
     "text": [
      "                   A         B         S         T      E\n",
      "2019-10-02  0.777138 -0.267269  0.119741 -0.020885    one\n",
      "2019-10-03  0.385544  0.322240  0.720011 -0.065756    one\n",
      "2019-10-04  1.544209 -0.333866 -0.084708  1.507389    two\n",
      "2019-10-05  0.549199  0.941824 -0.283344 -0.539447  three\n",
      "2019-10-06  1.222607  0.662078  0.175813  1.088437   four\n",
      "2019-10-07  0.100213  0.667455 -1.890335  0.535583  three\n",
      "2019-10-08 -0.905007  0.523236 -0.809862  1.182063   four\n",
      "2019-10-09 -1.603967  1.480507 -0.891274 -0.419382    one\n",
      "2019-10-02    False\n",
      "2019-10-03    False\n",
      "2019-10-04     True\n",
      "2019-10-05    False\n",
      "2019-10-06     True\n",
      "2019-10-07    False\n",
      "2019-10-08     True\n",
      "2019-10-09    False\n",
      "Freq: D, Name: E, dtype: bool\n",
      "                   A         B         S         T     E\n",
      "2019-10-04  1.544209 -0.333866 -0.084708  1.507389   two\n",
      "2019-10-06  1.222607  0.662078  0.175813  1.088437  four\n",
      "2019-10-08 -0.905007  0.523236 -0.809862  1.182063  four\n"
     ]
    }
   ],
   "source": [
    "# Select by set membership with isin()\n",
    "df2 = df.copy()\n",
    "\n",
    "# Add an new column\n",
    "df2['E'] = ['one', 'one', 'two', 'three', 'four', 'three','four','one']\n",
    "print(df2)\n",
    "\n",
    "# isin() generate logical conditions\n",
    "print( df2['E'].isin(['two', 'four' ]) )\n",
    "\n",
    "# Select the rows whose column E is either 'two' or 'four'\n",
    "print(df2[ df2['E'].isin(['two', 'four' ])])"
   ]
  },
  {
   "cell_type": "markdown",
   "metadata": {
    "colab_type": "text",
    "id": "b1UvY544W-FZ"
   },
   "source": [
    "## Setting values"
   ]
  },
  {
   "cell_type": "code",
   "execution_count": 41,
   "metadata": {
    "colab": {
     "base_uri": "https://localhost:8080/",
     "height": 138
    },
    "colab_type": "code",
    "executionInfo": {
     "elapsed": 627,
     "status": "ok",
     "timestamp": 1569982246017,
     "user": {
      "displayName": "ML Lo",
      "photoUrl": "",
      "userId": "11511065297651515564"
     },
     "user_tz": -480
    },
    "id": "fqWjscbDXDM2",
    "outputId": "3a52eafc-1c28-4321-cd09-800bbf42a836"
   },
   "outputs": [
    {
     "name": "stdout",
     "output_type": "stream",
     "text": [
      "2013-01-02    1\n",
      "2013-01-03    2\n",
      "2013-01-04    3\n",
      "2013-01-05    4\n",
      "2013-01-06    5\n",
      "2013-01-07    6\n",
      "Freq: D, dtype: int64\n"
     ]
    }
   ],
   "source": [
    "s1 = pd.Series([1, 2, 3, 4, 5, 6], index=pd.date_range('20130102', periods=6))\n",
    "\n",
    "print(s1)"
   ]
  },
  {
   "cell_type": "code",
   "execution_count": 42,
   "metadata": {
    "colab": {
     "base_uri": "https://localhost:8080/",
     "height": 173
    },
    "colab_type": "code",
    "executionInfo": {
     "elapsed": 815,
     "status": "ok",
     "timestamp": 1569982250119,
     "user": {
      "displayName": "ML Lo",
      "photoUrl": "",
      "userId": "11511065297651515564"
     },
     "user_tz": -480
    },
    "id": "K6yFneo6XJ2j",
    "outputId": "ec0cd352-12e1-46da-e8d7-7b1a46cd53d2"
   },
   "outputs": [
    {
     "name": "stdout",
     "output_type": "stream",
     "text": [
      "                   A         B         S         T   F\n",
      "2019-10-02  0.777138 -0.267269  0.119741 -0.020885 NaN\n",
      "2019-10-03  0.385544  0.322240  0.720011 -0.065756 NaN\n",
      "2019-10-04  1.544209 -0.333866 -0.084708  1.507389 NaN\n",
      "2019-10-05  0.549199  0.941824 -0.283344 -0.539447 NaN\n",
      "2019-10-06  1.222607  0.662078  0.175813  1.088437 NaN\n",
      "2019-10-07  0.100213  0.667455 -1.890335  0.535583 NaN\n",
      "2019-10-08 -0.905007  0.523236 -0.809862  1.182063 NaN\n",
      "2019-10-09 -1.603967  1.480507 -0.891274 -0.419382 NaN\n"
     ]
    }
   ],
   "source": [
    "# add a new column to df\n",
    "df['F'] = s1\n",
    "\n",
    "# note that the indices are not fully aligned\n",
    "# This is the correct thing to do for the data\n",
    "print(df)"
   ]
  },
  {
   "cell_type": "code",
   "execution_count": 43,
   "metadata": {
    "colab": {
     "base_uri": "https://localhost:8080/",
     "height": 173
    },
    "colab_type": "code",
    "executionInfo": {
     "elapsed": 806,
     "status": "ok",
     "timestamp": 1569982255020,
     "user": {
      "displayName": "ML Lo",
      "photoUrl": "",
      "userId": "11511065297651515564"
     },
     "user_tz": -480
    },
    "id": "2FDI5AzlXS4H",
    "outputId": "40e3cfbf-1369-497a-98fa-0508b80baea1"
   },
   "outputs": [
    {
     "name": "stdout",
     "output_type": "stream",
     "text": [
      "                   A         B         S         T   F  D\n",
      "2019-10-02  0.000000  0.000000  0.119741 -0.020885 NaN  5\n",
      "2019-10-03  0.385544  0.322240  0.720011 -0.065756 NaN  5\n",
      "2019-10-04  1.544209 -0.333866 -0.084708  1.507389 NaN  5\n",
      "2019-10-05  0.549199  0.941824 -0.283344 -0.539447 NaN  5\n",
      "2019-10-06  1.222607  0.662078  0.175813  1.088437 NaN  5\n",
      "2019-10-07  0.100213  0.667455 -1.890335  0.535583 NaN  5\n",
      "2019-10-08 -0.905007  0.523236 -0.809862  1.182063 NaN  5\n",
      "2019-10-09 -1.603967  1.480507 -0.891274 -0.419382 NaN  5\n"
     ]
    }
   ],
   "source": [
    "# set value by label\n",
    "df.at[dates[0], 'A'] = 0\n",
    "\n",
    "# set value by position\n",
    "df.iat[0, 1] = 0\n",
    "\n",
    "# set values for the whole column\n",
    "df.loc[:, 'D'] = np.array([5] * len(df))\n",
    "\n",
    "print(df)"
   ]
  },
  {
   "cell_type": "code",
   "execution_count": 44,
   "metadata": {
    "colab": {
     "base_uri": "https://localhost:8080/",
     "height": 173
    },
    "colab_type": "code",
    "executionInfo": {
     "elapsed": 794,
     "status": "ok",
     "timestamp": 1569982262586,
     "user": {
      "displayName": "ML Lo",
      "photoUrl": "",
      "userId": "11511065297651515564"
     },
     "user_tz": -480
    },
    "id": "IG9uOw3LXmSc",
    "outputId": "94d73720-92ed-4dd5-f54e-b512ad7086ba"
   },
   "outputs": [
    {
     "name": "stdout",
     "output_type": "stream",
     "text": [
      "                   A         B         S         T   F  D\n",
      "2019-10-02  0.000000  0.000000 -0.119741 -0.020885 NaN -5\n",
      "2019-10-03 -0.385544 -0.322240 -0.720011 -0.065756 NaN -5\n",
      "2019-10-04 -1.544209 -0.333866 -0.084708 -1.507389 NaN -5\n",
      "2019-10-05 -0.549199 -0.941824 -0.283344 -0.539447 NaN -5\n",
      "2019-10-06 -1.222607 -0.662078 -0.175813 -1.088437 NaN -5\n",
      "2019-10-07 -0.100213 -0.667455 -1.890335 -0.535583 NaN -5\n",
      "2019-10-08 -0.905007 -0.523236 -0.809862 -1.182063 NaN -5\n",
      "2019-10-09 -1.603967 -1.480507 -0.891274 -0.419382 NaN -5\n"
     ]
    }
   ],
   "source": [
    "# set value for all cells with certain condition\n",
    "df2 = df.copy()  # make a copy so that we won't change the original data\n",
    "\n",
    "# print(df2 > 0)\n",
    "\n",
    "# Setting by condition (boolean array)\n",
    "df2[df2 > 0] = -df2\n",
    "\n",
    "print(df2)\n"
   ]
  },
  {
   "cell_type": "markdown",
   "metadata": {
    "colab_type": "text",
    "id": "bQ4G5tmoX0Qh"
   },
   "source": [
    "### Handling missing data\n",
    "\n",
    "pandas primarily uses the value np.nan to represent missing data. It is by default not included in computations. See the Missing Data section.\n",
    "\n",
    "DataFrame.reindex() below creates a new dataFrame."
   ]
  },
  {
   "cell_type": "code",
   "execution_count": 47,
   "metadata": {
    "colab": {
     "base_uri": "https://localhost:8080/",
     "height": 190
    },
    "colab_type": "code",
    "executionInfo": {
     "elapsed": 802,
     "status": "ok",
     "timestamp": 1569982464516,
     "user": {
      "displayName": "ML Lo",
      "photoUrl": "",
      "userId": "11511065297651515564"
     },
     "user_tz": -480
    },
    "id": "D-QCyMCaaYOH",
    "outputId": "f63c17d6-71ba-47b2-a450-75e55b5b6ef4"
   },
   "outputs": [
    {
     "name": "stdout",
     "output_type": "stream",
     "text": [
      "                   A         B         S         T   F  D   E\n",
      "2019-10-02  0.000000  0.000000  0.119741 -0.020885 NaN  5 NaN\n",
      "2019-10-03  0.385544  0.322240  0.720011 -0.065756 NaN  5 NaN\n",
      "2019-10-04  1.544209 -0.333866 -0.084708  1.507389 NaN  5 NaN\n",
      "2019-10-05  0.549199  0.941824 -0.283344 -0.539447 NaN  5 NaN\n",
      "                   A         B         S         T    F  D    E\n",
      "2019-10-02  0.000000  0.000000  0.119741 -0.020885  3.0  5  1.0\n",
      "2019-10-03  0.385544  0.322240  0.720011 -0.065756  3.0  5  1.0\n",
      "2019-10-04  1.544209 -0.333866 -0.084708  1.507389  NaN  5  NaN\n",
      "2019-10-05  0.549199  0.941824 -0.283344 -0.539447  NaN  5  NaN\n"
     ]
    }
   ],
   "source": [
    "\n",
    "# Make a new dataframe from the original data frame.\n",
    "df1 = df.reindex(index=dates[0:4], columns=list(df.columns) + ['E'])\n",
    "\n",
    "# column 'E' are np.nan at this point\n",
    "print(df1)\n",
    "\n",
    "df1.loc[dates[0]:dates[1], 'E'] = 1\n",
    "df1.loc[dates[0]:dates[1], 'F'] = 3\n",
    "print(df1)\n"
   ]
  },
  {
   "cell_type": "markdown",
   "metadata": {
    "colab_type": "text",
    "id": "90yTPhFWa0fN"
   },
   "source": [
    "In data analaysis, we sometimes want to drop rows with missing data.\n",
    "\n"
   ]
  },
  {
   "cell_type": "code",
   "execution_count": 48,
   "metadata": {
    "colab": {
     "base_uri": "https://localhost:8080/",
     "height": 69
    },
    "colab_type": "code",
    "executionInfo": {
     "elapsed": 614,
     "status": "ok",
     "timestamp": 1569982486333,
     "user": {
      "displayName": "ML Lo",
      "photoUrl": "",
      "userId": "11511065297651515564"
     },
     "user_tz": -480
    },
    "id": "KTPnC25kbFov",
    "outputId": "b444a5be-4561-45ba-acd3-3de14f93ce86"
   },
   "outputs": [
    {
     "name": "stdout",
     "output_type": "stream",
     "text": [
      "                   A        B         S         T    F  D    E\n",
      "2019-10-02  0.000000  0.00000  0.119741 -0.020885  3.0  5  1.0\n",
      "2019-10-03  0.385544  0.32224  0.720011 -0.065756  3.0  5  1.0\n"
     ]
    }
   ],
   "source": [
    "print( df1.dropna(how='any'))"
   ]
  },
  {
   "cell_type": "markdown",
   "metadata": {
    "colab_type": "text",
    "id": "mekuYlIAbMsY"
   },
   "source": [
    "Sometime we want to fill the missing data with some values.\n"
   ]
  },
  {
   "cell_type": "code",
   "execution_count": 50,
   "metadata": {
    "colab": {
     "base_uri": "https://localhost:8080/",
     "height": 104
    },
    "colab_type": "code",
    "executionInfo": {
     "elapsed": 807,
     "status": "ok",
     "timestamp": 1569982528906,
     "user": {
      "displayName": "ML Lo",
      "photoUrl": "",
      "userId": "11511065297651515564"
     },
     "user_tz": -480
    },
    "id": "fFZ_yAYRbRSM",
    "outputId": "014cff35-3f6a-47a0-e8f2-0166e374b559"
   },
   "outputs": [
    {
     "name": "stdout",
     "output_type": "stream",
     "text": [
      "                   A         B         S         T    F  D    E\n",
      "2019-10-02  0.000000  0.000000  0.119741 -0.020885  3.0  5  1.0\n",
      "2019-10-03  0.385544  0.322240  0.720011 -0.065756  3.0  5  1.0\n",
      "2019-10-04  1.544209 -0.333866 -0.084708  1.507389  3.0  5  3.0\n",
      "2019-10-05  0.549199  0.941824 -0.283344 -0.539447  3.0  5  3.0\n"
     ]
    }
   ],
   "source": [
    "print(df1.fillna(value=3))"
   ]
  },
  {
   "cell_type": "markdown",
   "metadata": {
    "colab_type": "text",
    "id": "Y42CPK8ibakL"
   },
   "source": [
    "We can also get a boolean mask of the data frame where the data are NaN."
   ]
  },
  {
   "cell_type": "code",
   "execution_count": 51,
   "metadata": {
    "colab": {
     "base_uri": "https://localhost:8080/",
     "height": 104
    },
    "colab_type": "code",
    "executionInfo": {
     "elapsed": 1129,
     "status": "ok",
     "timestamp": 1569982539940,
     "user": {
      "displayName": "ML Lo",
      "photoUrl": "",
      "userId": "11511065297651515564"
     },
     "user_tz": -480
    },
    "id": "POqgGq2KbiBS",
    "outputId": "2a23ead0-8067-4baf-ef18-19c6f269db8c"
   },
   "outputs": [
    {
     "name": "stdout",
     "output_type": "stream",
     "text": [
      "                A      B      S      T      F      D      E\n",
      "2019-10-02  False  False  False  False  False  False  False\n",
      "2019-10-03  False  False  False  False  False  False  False\n",
      "2019-10-04  False  False  False  False   True  False   True\n",
      "2019-10-05  False  False  False  False   True  False   True\n"
     ]
    }
   ],
   "source": [
    "print(pd.isna(df1))"
   ]
  },
  {
   "cell_type": "markdown",
   "metadata": {
    "colab_type": "text",
    "id": "HDa9dvlSbp5u"
   },
   "source": [
    "## Operations\n",
    "\n",
    "Operations in general exclude missing data.\n",
    "\n"
   ]
  },
  {
   "cell_type": "markdown",
   "metadata": {
    "colab_type": "text",
    "id": "8bI4teETcBw8"
   },
   "source": [
    "### Stats\n",
    "Pandas supports the following stat operations:\n",
    "* mean()"
   ]
  },
  {
   "cell_type": "code",
   "execution_count": 53,
   "metadata": {
    "colab": {
     "base_uri": "https://localhost:8080/",
     "height": 295
    },
    "colab_type": "code",
    "executionInfo": {
     "elapsed": 1129,
     "status": "ok",
     "timestamp": 1569982628964,
     "user": {
      "displayName": "ML Lo",
      "photoUrl": "",
      "userId": "11511065297651515564"
     },
     "user_tz": -480
    },
    "id": "QSB1Ki0mcI9m",
    "outputId": "fadfa145-b5c4-4df3-c9f6-882aa27cdff0"
   },
   "outputs": [
    {
     "name": "stdout",
     "output_type": "stream",
     "text": [
      "A    0.161600\n",
      "B    0.532934\n",
      "S   -0.367995\n",
      "T    0.408500\n",
      "F         NaN\n",
      "D    5.000000\n",
      "dtype: float64\n",
      "2019-10-02    1.019771\n",
      "2019-10-03    1.272408\n",
      "2019-10-04    1.526605\n",
      "2019-10-05    1.133647\n",
      "2019-10-06    1.629787\n",
      "2019-10-07    0.882583\n",
      "2019-10-08    0.998086\n",
      "2019-10-09    0.713177\n",
      "Freq: D, dtype: float64\n"
     ]
    }
   ],
   "source": [
    "print(df.mean()) # take mean on each column (along axis 0) \n",
    "print(df.mean(1)) # take mean on each row (along axis 1)"
   ]
  },
  {
   "cell_type": "markdown",
   "metadata": {
    "colab_type": "text",
    "id": "V9Avuenscw2u"
   },
   "source": [
    "### Arithmetic operations\n",
    "Pandas supports arithmetic operations.  \n",
    "It automatically handles broadcasting, and deals with missing data.\n",
    "\n"
   ]
  },
  {
   "cell_type": "code",
   "execution_count": 55,
   "metadata": {
    "colab": {
     "base_uri": "https://localhost:8080/",
     "height": 329
    },
    "colab_type": "code",
    "executionInfo": {
     "elapsed": 1856,
     "status": "ok",
     "timestamp": 1569982728852,
     "user": {
      "displayName": "ML Lo",
      "photoUrl": "",
      "userId": "11511065297651515564"
     },
     "user_tz": -480
    },
    "id": "b3V7yFMpc60x",
    "outputId": "6bb8070e-b7e1-425b-c7e7-f394b4cd2313"
   },
   "outputs": [
    {
     "name": "stdout",
     "output_type": "stream",
     "text": [
      "2019-10-02    1.0\n",
      "2019-10-03    3.0\n",
      "2019-10-04    5.0\n",
      "2019-10-05    NaN\n",
      "2019-10-06    6.0\n",
      "2019-10-07    8.0\n",
      "2019-10-08    7.0\n",
      "2019-10-09    9.0\n",
      "Freq: D, dtype: float64\n",
      "2019-10-02    NaN\n",
      "2019-10-03    NaN\n",
      "2019-10-04    1.0\n",
      "2019-10-05    3.0\n",
      "2019-10-06    5.0\n",
      "2019-10-07    NaN\n",
      "2019-10-08    6.0\n",
      "2019-10-09    8.0\n",
      "Freq: D, dtype: float64\n"
     ]
    }
   ],
   "source": [
    "s = pd.Series([1, 3, 5, np.nan, 6, 8, 7, 9], index=dates)\n",
    "print(s)\n",
    "\n",
    "s = pd.Series([1, 3, 5, np.nan, 6, 8, 7, 9], index=dates).shift(2)\n",
    "print(s)"
   ]
  },
  {
   "cell_type": "code",
   "execution_count": 56,
   "metadata": {
    "colab": {
     "base_uri": "https://localhost:8080/",
     "height": 329
    },
    "colab_type": "code",
    "executionInfo": {
     "elapsed": 2647,
     "status": "ok",
     "timestamp": 1569982803643,
     "user": {
      "displayName": "ML Lo",
      "photoUrl": "",
      "userId": "11511065297651515564"
     },
     "user_tz": -480
    },
    "id": "NPHiCCdLSdCR",
    "outputId": "adbb427d-4e69-4ca9-a372-669eafe5979e"
   },
   "outputs": [
    {
     "name": "stdout",
     "output_type": "stream",
     "text": [
      "                   A         B         S         T   F  D\n",
      "2019-10-02  0.000000  0.000000  0.119741 -0.020885 NaN  5\n",
      "2019-10-03  0.385544  0.322240  0.720011 -0.065756 NaN  5\n",
      "2019-10-04  1.544209 -0.333866 -0.084708  1.507389 NaN  5\n",
      "2019-10-05  0.549199  0.941824 -0.283344 -0.539447 NaN  5\n",
      "2019-10-06  1.222607  0.662078  0.175813  1.088437 NaN  5\n",
      "2019-10-07  0.100213  0.667455 -1.890335  0.535583 NaN  5\n",
      "2019-10-08 -0.905007  0.523236 -0.809862  1.182063 NaN  5\n",
      "2019-10-09 -1.603967  1.480507 -0.891274 -0.419382 NaN  5\n",
      "                   A         B         S         T   F    D\n",
      "2019-10-02       NaN       NaN       NaN       NaN NaN  NaN\n",
      "2019-10-03       NaN       NaN       NaN       NaN NaN  NaN\n",
      "2019-10-04  0.544209 -1.333866 -1.084708  0.507389 NaN  4.0\n",
      "2019-10-05 -2.450801 -2.058176 -3.283344 -3.539447 NaN  2.0\n",
      "2019-10-06 -3.777393 -4.337922 -4.824187 -3.911563 NaN  0.0\n",
      "2019-10-07       NaN       NaN       NaN       NaN NaN  NaN\n",
      "2019-10-08 -6.905007 -5.476764 -6.809862 -4.817937 NaN -1.0\n",
      "2019-10-09 -9.603967 -6.519493 -8.891274 -8.419382 NaN -3.0\n"
     ]
    }
   ],
   "source": [
    "# DataFrame automatically do broadcasting on operations\n",
    "print(df)\n",
    "print(df.sub(s, axis='index'))"
   ]
  },
  {
   "cell_type": "markdown",
   "metadata": {
    "colab_type": "text",
    "id": "wc97bCkhdnNd"
   },
   "source": [
    "### Apply functions to data\n",
    "\n",
    "In data science, you often need to apply a function of your own design to all the data cells.  \n",
    "\n",
    "Pandas supports this with the DataFrame.apply() function."
   ]
  },
  {
   "cell_type": "code",
   "execution_count": 57,
   "metadata": {
    "colab": {
     "base_uri": "https://localhost:8080/",
     "height": 451
    },
    "colab_type": "code",
    "executionInfo": {
     "elapsed": 1148,
     "status": "ok",
     "timestamp": 1569982884902,
     "user": {
      "displayName": "ML Lo",
      "photoUrl": "",
      "userId": "11511065297651515564"
     },
     "user_tz": -480
    },
    "id": "-LFCO0sBd5YK",
    "outputId": "1fb41436-ac22-4265-d0f5-2e20b38f97e4"
   },
   "outputs": [
    {
     "name": "stdout",
     "output_type": "stream",
     "text": [
      "                   A         B         S         T   F  D\n",
      "2019-10-02  0.000000  0.000000  0.119741 -0.020885 NaN  5\n",
      "2019-10-03  0.385544  0.322240  0.720011 -0.065756 NaN  5\n",
      "2019-10-04  1.544209 -0.333866 -0.084708  1.507389 NaN  5\n",
      "2019-10-05  0.549199  0.941824 -0.283344 -0.539447 NaN  5\n",
      "2019-10-06  1.222607  0.662078  0.175813  1.088437 NaN  5\n",
      "2019-10-07  0.100213  0.667455 -1.890335  0.535583 NaN  5\n",
      "2019-10-08 -0.905007  0.523236 -0.809862  1.182063 NaN  5\n",
      "2019-10-09 -1.603967  1.480507 -0.891274 -0.419382 NaN  5\n",
      "                   A         B         S         T   F   D\n",
      "2019-10-02  0.000000  0.000000  0.119741 -0.020885 NaN   5\n",
      "2019-10-03  0.385544  0.322240  0.839753 -0.086641 NaN  10\n",
      "2019-10-04  1.929753 -0.011626  0.755044  1.420748 NaN  15\n",
      "2019-10-05  2.478952  0.930198  0.471701  0.881301 NaN  20\n",
      "2019-10-06  3.701559  1.592276  0.647513  1.969738 NaN  25\n",
      "2019-10-07  3.801771  2.259731 -1.242822  2.505321 NaN  30\n",
      "2019-10-08  2.896764  2.782967 -2.052683  3.687384 NaN  35\n",
      "2019-10-09  1.292797  4.263475 -2.943957  3.268002 NaN  40\n",
      "A    3.148175\n",
      "B    1.814374\n",
      "S    2.610346\n",
      "T    2.046836\n",
      "F         NaN\n",
      "D    0.000000\n",
      "dtype: float64\n"
     ]
    }
   ],
   "source": [
    "print(df)\n",
    "\n",
    "# apply the NumPy cumulative sum function.\n",
    "print(df.apply(np.cumsum))\n",
    "\n",
    "df1 = df.apply( lambda x: x.max() - x.min())\n",
    "print(df1)"
   ]
  },
  {
   "cell_type": "markdown",
   "metadata": {
    "colab_type": "text",
    "id": "CjYo0nK6ffaR"
   },
   "source": [
    "### Histogram\n",
    "\n",
    "series.value_counts() returns a series which is the histogram of the original series data."
   ]
  },
  {
   "cell_type": "code",
   "execution_count": 62,
   "metadata": {
    "colab": {
     "base_uri": "https://localhost:8080/",
     "height": 312
    },
    "colab_type": "code",
    "executionInfo": {
     "elapsed": 828,
     "status": "ok",
     "timestamp": 1569983476807,
     "user": {
      "displayName": "ML Lo",
      "photoUrl": "",
      "userId": "11511065297651515564"
     },
     "user_tz": -480
    },
    "id": "XUKDwatufiUE",
    "outputId": "b9858bac-445a-47de-f753-27496a0f7b47"
   },
   "outputs": [
    {
     "name": "stdout",
     "output_type": "stream",
     "text": [
      "0    2\n",
      "1    1\n",
      "2    4\n",
      "3    4\n",
      "4    5\n",
      "5    0\n",
      "6    5\n",
      "7    2\n",
      "8    0\n",
      "9    5\n",
      "dtype: int64\n",
      "5    3\n",
      "4    2\n",
      "2    2\n",
      "0    2\n",
      "1    1\n",
      "dtype: int64\n"
     ]
    }
   ],
   "source": [
    "s = pd.Series(np.random.randint(0, 7, size=10))\n",
    "print(s)\n",
    "print(s.value_counts())\n"
   ]
  },
  {
   "cell_type": "markdown",
   "metadata": {
    "colab_type": "text",
    "id": "gdmhRMnqguGI"
   },
   "source": [
    "### Merge data\n",
    "\n",
    "pandas provides various facilities for easily combining together Series, DataFrame, and Panel objects with various kinds of set logic for the indexes and relational algebra functionality in the case of join / merge-type operations.\n",
    "\n",
    "The main types of merging data include:\n",
    "* Concatenate\n",
    "* Join: SQL style join.\n",
    "* Append: add new rows to a dataframe\n"
   ]
  },
  {
   "cell_type": "code",
   "execution_count": 63,
   "metadata": {
    "colab": {
     "base_uri": "https://localhost:8080/",
     "height": 329
    },
    "colab_type": "code",
    "executionInfo": {
     "elapsed": 924,
     "status": "ok",
     "timestamp": 1569983578343,
     "user": {
      "displayName": "ML Lo",
      "photoUrl": "",
      "userId": "11511065297651515564"
     },
     "user_tz": -480
    },
    "id": "SLo41k32g0j7",
    "outputId": "885e47cf-36bb-496f-88ca-a9008ca7cf8b"
   },
   "outputs": [
    {
     "name": "stdout",
     "output_type": "stream",
     "text": [
      "          0         1         2         3\n",
      "0  0.917648 -0.581949  1.054364 -0.049878\n",
      "1 -0.846487  0.036553  1.934288  1.402316\n",
      "2 -0.095928 -0.224537  0.774326 -0.751974\n",
      "3  0.390377 -0.078754 -1.457869 -0.031633\n",
      "4  1.088702  0.498400  1.015861 -0.034654\n",
      "5 -0.678487 -0.577477  0.232106  0.161510\n",
      "6 -0.731839  0.141353 -2.123256  1.529921\n",
      "7 -1.830209 -0.668499  2.636951 -1.705641\n",
      "8  2.448841  0.189666 -0.276640 -0.283198\n",
      "9  1.108512  0.266814 -0.790398  0.324594\n",
      "          0         1         2         3\n",
      "0  0.917648 -0.581949  1.054364 -0.049878\n",
      "1 -0.846487  0.036553  1.934288  1.402316\n",
      "2 -0.095928 -0.224537  0.774326 -0.751974\n",
      "7 -1.830209 -0.668499  2.636951 -1.705641\n",
      "8  2.448841  0.189666 -0.276640 -0.283198\n",
      "9  1.108512  0.266814 -0.790398  0.324594\n"
     ]
    }
   ],
   "source": [
    "# Concat\n",
    "df = pd.DataFrame(np.random.randn(10, 4))\n",
    "print(df)\n",
    "\n",
    "# break it into pieces\n",
    "pieces = [ df[:3], df[7:]]\n",
    "print(pd.concat(pieces))\n"
   ]
  },
  {
   "cell_type": "code",
   "execution_count": 65,
   "metadata": {
    "colab": {
     "base_uri": "https://localhost:8080/",
     "height": 190
    },
    "colab_type": "code",
    "executionInfo": {
     "elapsed": 939,
     "status": "ok",
     "timestamp": 1569983784760,
     "user": {
      "displayName": "ML Lo",
      "photoUrl": "",
      "userId": "11511065297651515564"
     },
     "user_tz": -480
    },
    "id": "9skby-ZSW0k0",
    "outputId": "5f3aa88a-3fc5-4638-8026-98cd1529942d"
   },
   "outputs": [
    {
     "name": "stdout",
     "output_type": "stream",
     "text": [
      "    name income\n",
      "0   john    10K\n",
      "1   mary    20K\n",
      "2  peter    25K\n",
      "   name expense\n",
      "0  mary     12K\n",
      "1  john     10K\n",
      "   name income expense\n",
      "0  john    10K     10K\n",
      "1  mary    20K     12K\n"
     ]
    }
   ],
   "source": [
    "# join\n",
    "left = pd.DataFrame({'name': ['john', 'mary','peter'], 'income': ['10K', '20K','25K']})\n",
    "right = pd.DataFrame({'name': ['mary', 'john'], 'expense': ['12K', '10K']})\n",
    "print(left)\n",
    "print(right)\n",
    "\n",
    "print(pd.merge(left, right, on='name'))\n"
   ]
  },
  {
   "cell_type": "code",
   "execution_count": 66,
   "metadata": {
    "colab": {
     "base_uri": "https://localhost:8080/",
     "height": 208
    },
    "colab_type": "code",
    "executionInfo": {
     "elapsed": 942,
     "status": "ok",
     "timestamp": 1569983853368,
     "user": {
      "displayName": "ML Lo",
      "photoUrl": "",
      "userId": "11511065297651515564"
     },
     "user_tz": -480
    },
    "id": "Y0yMqOz7hUeK",
    "outputId": "023facd4-c132-4f05-af73-46a35f2426ae"
   },
   "outputs": [
    {
     "name": "stdout",
     "output_type": "stream",
     "text": [
      "   key  lval\n",
      "0  foo     1\n",
      "1  foo     2\n",
      "   key  rval\n",
      "0  foo     4\n",
      "1  foo     5\n",
      "   key  lval  rval\n",
      "0  foo     1     4\n",
      "1  foo     1     5\n",
      "2  foo     2     4\n",
      "3  foo     2     5\n"
     ]
    }
   ],
   "source": [
    "# join\n",
    "left = pd.DataFrame({'key': ['foo', 'foo'], 'lval': [1, 2]})\n",
    "right = pd.DataFrame({'key': ['foo', 'foo'], 'rval': [4, 5]})\n",
    "print(left)\n",
    "print(right)\n",
    "\n",
    "print(pd.merge(left, right, on='key'))\n"
   ]
  },
  {
   "cell_type": "code",
   "execution_count": 67,
   "metadata": {
    "colab": {
     "base_uri": "https://localhost:8080/",
     "height": 173
    },
    "colab_type": "code",
    "executionInfo": {
     "elapsed": 864,
     "status": "ok",
     "timestamp": 1569983908160,
     "user": {
      "displayName": "ML Lo",
      "photoUrl": "",
      "userId": "11511065297651515564"
     },
     "user_tz": -480
    },
    "id": "7hFjSzc0WrhN",
    "outputId": "f457395c-ed86-456f-f674-29e8e23b4c15"
   },
   "outputs": [
    {
     "name": "stdout",
     "output_type": "stream",
     "text": [
      "   key  lval\n",
      "0  foo     1\n",
      "1  bar     2\n",
      "   key  rval\n",
      "0  foo     4\n",
      "1  bar     5\n",
      "   key  lval  rval\n",
      "0  foo     1     4\n",
      "1  bar     2     5\n"
     ]
    }
   ],
   "source": [
    "# join\n",
    "left = pd.DataFrame({'key': ['foo', 'bar'], 'lval': [1, 2]})\n",
    "right = pd.DataFrame({'key': ['foo', 'bar'], 'rval': [4, 5]})\n",
    "print(left)\n",
    "print(right)\n",
    "\n",
    "print(pd.merge(left, right, on='key'))\n"
   ]
  },
  {
   "cell_type": "code",
   "execution_count": 68,
   "metadata": {
    "colab": {
     "base_uri": "https://localhost:8080/",
     "height": 260
    },
    "colab_type": "code",
    "executionInfo": {
     "elapsed": 843,
     "status": "ok",
     "timestamp": 1569983973518,
     "user": {
      "displayName": "ML Lo",
      "photoUrl": "",
      "userId": "11511065297651515564"
     },
     "user_tz": -480
    },
    "id": "g650oO3Zi5dW",
    "outputId": "f5b7bce1-22e3-48a2-8985-fe5e4f985b7b"
   },
   "outputs": [
    {
     "name": "stdout",
     "output_type": "stream",
     "text": [
      "          A         B         C         D\n",
      "3  1.484905 -0.150002  0.980677  0.826117\n",
      "4 -0.680211 -0.240724  2.558614 -1.080967\n",
      "          A         B         C         D\n",
      "0  0.375525 -1.477920 -0.281957 -0.114251\n",
      "1 -0.514927 -2.075668  0.647061 -0.483872\n",
      "2 -0.333863 -0.070501  0.538411 -0.006364\n",
      "3  1.484905 -0.150002  0.980677  0.826117\n",
      "4 -0.680211 -0.240724  2.558614 -1.080967\n",
      "5 -1.042185  0.471746 -0.229972 -0.302088\n",
      "6 -0.907291 -0.893393  1.024692 -0.390083\n",
      "7  0.019383 -0.574632  0.736563  0.262156\n",
      "8  1.484905 -0.150002  0.980677  0.826117\n",
      "9 -0.680211 -0.240724  2.558614 -1.080967\n"
     ]
    }
   ],
   "source": [
    "# append\n",
    "df = pd.DataFrame(np.random.randn(8, 4), columns=['A', 'B', 'C', 'D'])\n",
    "# copy row 3 and row 4 to s\n",
    "s = df.iloc[3:5]\n",
    "\n",
    "# add row 3 and row 4 to the end of df\n",
    "print(s)\n",
    "print(df.append(s, ignore_index=True))"
   ]
  },
  {
   "cell_type": "markdown",
   "metadata": {
    "colab_type": "text",
    "id": "6u1IYsDYjjS7"
   },
   "source": [
    "### Grouping\n",
    "\n",
    "By “group by” we are referring to a process involving one or more of the following steps:\n",
    "\n",
    "* Splitting the data into groups based on some criteria\n",
    "* Applying a function to each group independently\n",
    "* Combining the results into a data structure"
   ]
  },
  {
   "cell_type": "code",
   "execution_count": 73,
   "metadata": {
    "colab": {
     "base_uri": "https://localhost:8080/",
     "height": 173
    },
    "colab_type": "code",
    "executionInfo": {
     "elapsed": 1013,
     "status": "ok",
     "timestamp": 1569984352899,
     "user": {
      "displayName": "ML Lo",
      "photoUrl": "",
      "userId": "11511065297651515564"
     },
     "user_tz": -480
    },
    "id": "m-S8N2Pnjq-5",
    "outputId": "fee058d7-1c23-4cf3-e3c3-fbc508fd1a69"
   },
   "outputs": [
    {
     "name": "stdout",
     "output_type": "stream",
     "text": [
      "     A      B         C         D\n",
      "0  foo    one  0.833882  0.799594\n",
      "1  bar    one -0.243489 -1.707683\n",
      "2  foo    two  1.917513  0.496332\n",
      "3  bar  three  0.800202  0.447433\n",
      "4  foo    two  1.294643  0.108658\n",
      "5  bar    two  1.493295 -0.123916\n",
      "6  foo    one -0.639872 -1.229779\n",
      "7  foo  three  0.551266 -1.424413\n"
     ]
    }
   ],
   "source": [
    "df = pd.DataFrame({'A': ['foo', 'bar', 'foo', 'bar',\n",
    "                             'foo', 'bar', 'foo', 'foo'],\n",
    "                       'B': ['one', 'one', 'two', 'three',\n",
    "                             'two', 'two', 'one', 'three'],\n",
    "                       'C': np.random.randn(8),\n",
    "                       'D': np.random.randn(8)})\n",
    "print(df)"
   ]
  },
  {
   "cell_type": "code",
   "execution_count": 76,
   "metadata": {
    "colab": {
     "base_uri": "https://localhost:8080/",
     "height": 104
    },
    "colab_type": "code",
    "executionInfo": {
     "elapsed": 892,
     "status": "ok",
     "timestamp": 1569984443127,
     "user": {
      "displayName": "ML Lo",
      "photoUrl": "",
      "userId": "11511065297651515564"
     },
     "user_tz": -480
    },
    "id": "Izam4FORkAF-",
    "outputId": "59cd9435-7d2a-4310-8e4e-8cde60691038"
   },
   "outputs": [
    {
     "name": "stdout",
     "output_type": "stream",
     "text": [
      "<pandas.core.groupby.generic.DataFrameGroupBy object at 0x7fd644f6c358>\n",
      "            C         D\n",
      "A                      \n",
      "bar  2.050008 -1.384166\n",
      "foo  3.957433 -1.249607\n"
     ]
    }
   ],
   "source": [
    "print(df.groupby('A'))\n",
    "print(df.groupby('A').sum())"
   ]
  },
  {
   "cell_type": "code",
   "execution_count": 77,
   "metadata": {
    "colab": {
     "base_uri": "https://localhost:8080/",
     "height": 156
    },
    "colab_type": "code",
    "executionInfo": {
     "elapsed": 1052,
     "status": "ok",
     "timestamp": 1569984451550,
     "user": {
      "displayName": "ML Lo",
      "photoUrl": "",
      "userId": "11511065297651515564"
     },
     "user_tz": -480
    },
    "id": "c9Id5L1pkQNn",
    "outputId": "b2127bfe-81cf-4e06-e0d8-4960c2b6c7d9"
   },
   "outputs": [
    {
     "name": "stdout",
     "output_type": "stream",
     "text": [
      "                  C         D\n",
      "A   B                        \n",
      "bar one   -0.243489 -1.707683\n",
      "    three  0.800202  0.447433\n",
      "    two    1.493295 -0.123916\n",
      "foo one    0.194010 -0.430185\n",
      "    three  0.551266 -1.424413\n",
      "    two    3.212157  0.604990\n"
     ]
    }
   ],
   "source": [
    "# We cam group by multiple columns\n",
    "print(df.groupby(['A', 'B']).sum())"
   ]
  },
  {
   "cell_type": "markdown",
   "metadata": {
    "colab_type": "text",
    "id": "vW0deiykkh1w"
   },
   "source": [
    "## Reshaping\n",
    "\n",
    "### Stack"
   ]
  },
  {
   "cell_type": "code",
   "execution_count": 80,
   "metadata": {
    "colab": {
     "base_uri": "https://localhost:8080/",
     "height": 158
    },
    "colab_type": "code",
    "executionInfo": {
     "elapsed": 936,
     "status": "ok",
     "timestamp": 1569985039166,
     "user": {
      "displayName": "ML Lo",
      "photoUrl": "",
      "userId": "11511065297651515564"
     },
     "user_tz": -480
    },
    "id": "CgTQfVvlkjcW",
    "outputId": "3c6b52b2-a157-4cab-d5ee-ddb5ed395d4e"
   },
   "outputs": [
    {
     "name": "stdout",
     "output_type": "stream",
     "text": [
      "[('bar', 'one'), ('bar', 'two'), ('baz', 'one'), ('baz', 'two'), ('foo', 'one'), ('foo', 'two'), ('qux', 'one'), ('qux', 'two')]\n",
      "                     A         B\n",
      "first second                    \n",
      "bar   one     0.574831 -2.468784\n",
      "      two     1.601725 -0.105307\n",
      "baz   one     1.408481 -0.687562\n",
      "      two    -0.393092  0.639922\n"
     ]
    }
   ],
   "source": [
    "tuples = list(zip(*[['bar', 'bar', 'baz', 'baz',\n",
    "                         'foo', 'foo', 'qux', 'qux'],\n",
    "                        ['one', 'two', 'one', 'two',\n",
    "                         'one', 'two', 'one', 'two']]))\n",
    "print(tuples)\n",
    "\n",
    "# Build a multi index\n",
    "index = pd.MultiIndex.from_tuples(tuples, names=['first', 'second'])\n",
    "\n",
    "# build a data frame\n",
    "df = pd.DataFrame(np.random.randn(8, 2), index=index, columns=['A', 'B'])\n",
    "\n",
    "df2 = df[:4]\n",
    "print(df2)"
   ]
  },
  {
   "cell_type": "code",
   "execution_count": 81,
   "metadata": {
    "colab": {
     "base_uri": "https://localhost:8080/",
     "height": 260
    },
    "colab_type": "code",
    "executionInfo": {
     "elapsed": 956,
     "status": "ok",
     "timestamp": 1569985044105,
     "user": {
      "displayName": "ML Lo",
      "photoUrl": "",
      "userId": "11511065297651515564"
     },
     "user_tz": -480
    },
    "id": "ZwZDUrrOlypX",
    "outputId": "6f65b4cd-ec6f-400f-9baf-e3f17b3ef9b6"
   },
   "outputs": [
    {
     "name": "stdout",
     "output_type": "stream",
     "text": [
      "first  second   \n",
      "bar    one     A    0.574831\n",
      "               B   -2.468784\n",
      "       two     A    1.601725\n",
      "               B   -0.105307\n",
      "baz    one     A    1.408481\n",
      "               B   -0.687562\n",
      "       two     A   -0.393092\n",
      "               B    0.639922\n",
      "dtype: float64\n",
      "The shape of the new multi-index is: -----\n",
      " MultiIndex(levels=[['bar', 'baz', 'foo', 'qux'], ['one', 'two'], ['A', 'B']],\n",
      "           codes=[[0, 0, 0, 0, 1, 1, 1, 1], [0, 0, 1, 1, 0, 0, 1, 1], [0, 1, 0, 1, 0, 1, 0, 1]],\n",
      "           names=['first', 'second', None])\n"
     ]
    }
   ],
   "source": [
    "# The columns 'A' and 'B' become the third level of a new multiple index\n",
    "stacked = df2.stack()\n",
    "\n",
    "print(stacked)\n",
    "print(\"The shape of the new multi-index is: -----\\n\", stacked.index)"
   ]
  },
  {
   "cell_type": "markdown",
   "metadata": {
    "colab_type": "text",
    "id": "MVkqvRR-mgz8"
   },
   "source": [
    "The reverse of stack() function is unstack().  You can specify the level of the multi-index to unstack.  If you do not specify, the last level of the multi-index is used."
   ]
  },
  {
   "cell_type": "code",
   "execution_count": 82,
   "metadata": {
    "colab": {
     "base_uri": "https://localhost:8080/",
     "height": 399
    },
    "colab_type": "code",
    "executionInfo": {
     "elapsed": 1026,
     "status": "ok",
     "timestamp": 1569985049240,
     "user": {
      "displayName": "ML Lo",
      "photoUrl": "",
      "userId": "11511065297651515564"
     },
     "user_tz": -480
    },
    "id": "gDI6B0mkmub6",
    "outputId": "36c2b33b-d593-40a8-a070-2da24c1fb92a"
   },
   "outputs": [
    {
     "name": "stdout",
     "output_type": "stream",
     "text": [
      "                     A         B\n",
      "first second                    \n",
      "bar   one     0.574831 -2.468784\n",
      "      two     1.601725 -0.105307\n",
      "baz   one     1.408481 -0.687562\n",
      "      two    -0.393092  0.639922\n",
      "\n",
      "\n",
      " second        one       two\n",
      "first                      \n",
      "bar   A  0.574831  1.601725\n",
      "      B -2.468784 -0.105307\n",
      "baz   A  1.408481 -0.393092\n",
      "      B -0.687562  0.639922\n",
      "\n",
      "\n",
      " first          bar       baz\n",
      "second                      \n",
      "one    A  0.574831  1.408481\n",
      "       B -2.468784 -0.687562\n",
      "two    A  1.601725 -0.393092\n",
      "       B -0.105307  0.639922\n"
     ]
    }
   ],
   "source": [
    "print(stacked.unstack())\n",
    "print(\"\\n\\n\", stacked.unstack(1))\n",
    "print(\"\\n\\n\", stacked.unstack(0))"
   ]
  },
  {
   "cell_type": "markdown",
   "metadata": {
    "colab_type": "text",
    "id": "QWQMMucLm8dw"
   },
   "source": [
    "### Pivot tables\n"
   ]
  },
  {
   "cell_type": "code",
   "execution_count": 83,
   "metadata": {
    "colab": {
     "base_uri": "https://localhost:8080/",
     "height": 242
    },
    "colab_type": "code",
    "executionInfo": {
     "elapsed": 990,
     "status": "ok",
     "timestamp": 1569985093273,
     "user": {
      "displayName": "ML Lo",
      "photoUrl": "",
      "userId": "11511065297651515564"
     },
     "user_tz": -480
    },
    "id": "simcmmlEnIDc",
    "outputId": "58f2ef92-0073-4f2f-eb08-2650b8b2e833"
   },
   "outputs": [
    {
     "name": "stdout",
     "output_type": "stream",
     "text": [
      "        A  B    C         D         E\n",
      "0     one  A  foo  0.112113  3.170574\n",
      "1     one  B  foo -0.786936  0.526063\n",
      "2     two  C  foo -1.544606  0.171410\n",
      "3   three  A  bar -1.397835  0.997866\n",
      "4     one  B  bar -0.412478  0.303964\n",
      "5     one  C  bar  1.324405 -0.719408\n",
      "6     two  A  foo  0.469999  0.751149\n",
      "7   three  B  foo  0.082233  0.205593\n",
      "8     one  C  foo  0.177894  0.740917\n",
      "9     one  A  bar -0.030532  2.929506\n",
      "10    two  B  bar  0.899312  2.326480\n",
      "11  three  C  bar  1.237830 -1.565753\n"
     ]
    }
   ],
   "source": [
    "# Build our data\n",
    "df = pd.DataFrame({'A': ['one', 'one', 'two', 'three'] * 3,\n",
    "                       'B': ['A', 'B', 'C'] * 4,\n",
    "                       'C': ['foo', 'foo', 'foo', 'bar', 'bar', 'bar'] * 2,\n",
    "                       'D': np.random.randn(12),\n",
    "                       'E': np.random.randn(12)})\n",
    "print(df)"
   ]
  },
  {
   "cell_type": "code",
   "execution_count": 85,
   "metadata": {
    "colab": {
     "base_uri": "https://localhost:8080/",
     "height": 364
    },
    "colab_type": "code",
    "executionInfo": {
     "elapsed": 969,
     "status": "ok",
     "timestamp": 1569985183122,
     "user": {
      "displayName": "ML Lo",
      "photoUrl": "",
      "userId": "11511065297651515564"
     },
     "user_tz": -480
    },
    "id": "CZp7rV8fngIC",
    "outputId": "e3918826-bd9c-48d8-fe34-3a77d79e44f1"
   },
   "outputs": [
    {
     "name": "stdout",
     "output_type": "stream",
     "text": [
      "C             bar       foo\n",
      "A     B                    \n",
      "one   A -0.030532  0.112113\n",
      "      B -0.412478 -0.786936\n",
      "      C  1.324405  0.177894\n",
      "three A -1.397835       NaN\n",
      "      B       NaN  0.082233\n",
      "      C  1.237830       NaN\n",
      "two   A       NaN  0.469999\n",
      "      B  0.899312       NaN\n",
      "      C       NaN -1.544606\n",
      "              D                             E                    \n",
      "A           one     three       two       one     three       two\n",
      "C   B                                                            \n",
      "bar A -0.030532 -1.397835       NaN  2.929506  0.997866       NaN\n",
      "    B -0.412478       NaN  0.899312  0.303964       NaN  2.326480\n",
      "    C  1.324405  1.237830       NaN -0.719408 -1.565753       NaN\n",
      "foo A  0.112113       NaN  0.469999  3.170574       NaN  0.751149\n",
      "    B -0.786936  0.082233       NaN  0.526063  0.205593       NaN\n",
      "    C  0.177894       NaN -1.544606  0.740917       NaN  0.171410\n"
     ]
    }
   ],
   "source": [
    "# we can product pivot tables from the data easily\n",
    "df2 = pd.pivot_table(df, values='D', index=['A', 'B'], columns=['C'])\n",
    "\n",
    "print(df2)\n",
    "\n",
    "df3 = pd.pivot_table(df, values=('D', 'E'), index=['C', 'B'], columns=['A'])\n",
    "print(df3)"
   ]
  },
  {
   "cell_type": "markdown",
   "metadata": {
    "colab_type": "text",
    "id": "48erT8uwpZ1m"
   },
   "source": []
  },
  {
   "cell_type": "markdown",
   "metadata": {
    "colab_type": "text",
    "id": "uk2O76dCoVOs"
   },
   "source": [
    "## Time series\n",
    "pandas has simple, powerful, and efficient functionality for performing resampling operations during frequency conversion (e.g., converting secondly data into 5-minutely data). This is extremely common in, but not limited to, financial applications. See the Time Series section.\n",
    "\n"
   ]
  },
  {
   "cell_type": "markdown",
   "metadata": {
    "colab_type": "text",
    "id": "WaT_Qnhkqeyy"
   },
   "source": []
  },
  {
   "cell_type": "code",
   "execution_count": 0,
   "metadata": {
    "colab": {
     "base_uri": "https://localhost:8080/",
     "height": 585
    },
    "colab_type": "code",
    "executionInfo": {
     "elapsed": 792,
     "status": "ok",
     "timestamp": 1569230763919,
     "user": {
      "displayName": "ML Lo",
      "photoUrl": "",
      "userId": "11511065297651515564"
     },
     "user_tz": -480
    },
    "id": "hS8RJSpOpJRp",
    "outputId": "c8d949ae-8a24-439e-d634-cfa99abd426b"
   },
   "outputs": [
    {
     "name": "stdout",
     "output_type": "stream",
     "text": [
      "2012-01-01 00:00:00    226\n",
      "2012-01-01 00:00:01    320\n",
      "2012-01-01 00:00:02    211\n",
      "2012-01-01 00:00:03    189\n",
      "2012-01-01 00:00:04    383\n",
      "2012-01-01 00:00:05     89\n",
      "2012-01-01 00:00:06     27\n",
      "2012-01-01 00:00:07      4\n",
      "2012-01-01 00:00:08    349\n",
      "2012-01-01 00:00:09    182\n",
      "Freq: S, dtype: int64\n",
      "DatetimeIndexResampler [freq=<10 * Seconds>, axis=0, closed=left, label=left, convention=start, base=0]\n",
      "2012-01-01 00:00:00    198.0\n",
      "2012-01-01 00:00:10    220.4\n",
      "2012-01-01 00:00:20    323.1\n",
      "2012-01-01 00:00:30    304.4\n",
      "2012-01-01 00:00:40    298.6\n",
      "2012-01-01 00:00:50    200.3\n",
      "2012-01-01 00:01:00    242.1\n",
      "2012-01-01 00:01:10    310.8\n",
      "2012-01-01 00:01:20    229.8\n",
      "2012-01-01 00:01:30    316.3\n",
      "Freq: 10S, dtype: float64\n",
      "2012-01-01 00:00:00    383\n",
      "2012-01-01 00:00:10    425\n",
      "2012-01-01 00:00:20    478\n",
      "2012-01-01 00:00:30    476\n",
      "2012-01-01 00:00:40    485\n",
      "2012-01-01 00:00:50    394\n",
      "2012-01-01 00:01:00    421\n",
      "2012-01-01 00:01:10    472\n",
      "2012-01-01 00:01:20    479\n",
      "2012-01-01 00:01:30    432\n",
      "Freq: 10S, dtype: int64\n"
     ]
    }
   ],
   "source": [
    "# Generate a time series of 100 sec, with 1 data point per sec.\n",
    "rng = pd.date_range('1/1/2012', periods=100, freq='S')\n",
    "ts = pd.Series(np.random.randint(0, 500, len(rng)), index=rng)\n",
    "\n",
    "# We peek at the 10 data points\n",
    "print(ts.head(10))\n",
    "\n",
    "# We resample (down-sample) to 10S per data point, \n",
    "print(ts.resample('10S'))\n",
    "\n",
    "# And mean() to generate value for the data point\n",
    "print(ts.resample('10S').mean())\n",
    "\n",
    "#  Suppose your algorithm requires you to use the max value as resampled value\n",
    "print(ts.resample('10S').max())"
   ]
  },
  {
   "cell_type": "markdown",
   "metadata": {
    "colab_type": "text",
    "id": "vg3tvOi6s9BH"
   },
   "source": [
    "### Time zone in time series\n"
   ]
  },
  {
   "cell_type": "code",
   "execution_count": 0,
   "metadata": {
    "colab": {
     "base_uri": "https://localhost:8080/",
     "height": 117
    },
    "colab_type": "code",
    "executionInfo": {
     "elapsed": 735,
     "status": "ok",
     "timestamp": 1569231064681,
     "user": {
      "displayName": "ML Lo",
      "photoUrl": "",
      "userId": "11511065297651515564"
     },
     "user_tz": -480
    },
    "id": "kvmKNcz9tAJk",
    "outputId": "af48b44d-ef91-4d84-9228-c7b6cb4fa040"
   },
   "outputs": [
    {
     "name": "stdout",
     "output_type": "stream",
     "text": [
      "2012-03-06   -1.214869\n",
      "2012-03-07    1.384475\n",
      "2012-03-08   -0.094077\n",
      "2012-03-09    1.624140\n",
      "2012-03-10    0.081310\n",
      "Freq: D, dtype: float64\n"
     ]
    }
   ],
   "source": [
    "rng = pd.date_range('3/6/2012 00:00', periods=5, freq='D')\n",
    "\n",
    "ts = pd.Series(np.random.randn(len(rng)), rng)\n",
    "\n",
    "print(ts)"
   ]
  },
  {
   "cell_type": "code",
   "execution_count": 0,
   "metadata": {
    "colab": {
     "base_uri": "https://localhost:8080/",
     "height": 217
    },
    "colab_type": "code",
    "executionInfo": {
     "elapsed": 746,
     "status": "ok",
     "timestamp": 1569231070264,
     "user": {
      "displayName": "ML Lo",
      "photoUrl": "",
      "userId": "11511065297651515564"
     },
     "user_tz": -480
    },
    "id": "BX_EZe3mwJbw",
    "outputId": "746c0c76-2d6f-4d3d-f120-147529fa0080"
   },
   "outputs": [
    {
     "name": "stdout",
     "output_type": "stream",
     "text": [
      "2012-03-06 00:00:00+00:00   -1.214869\n",
      "2012-03-07 00:00:00+00:00    1.384475\n",
      "2012-03-08 00:00:00+00:00   -0.094077\n",
      "2012-03-09 00:00:00+00:00    1.624140\n",
      "2012-03-10 00:00:00+00:00    0.081310\n",
      "Freq: D, dtype: float64\n",
      "2012-03-05 19:00:00-05:00   -1.214869\n",
      "2012-03-06 19:00:00-05:00    1.384475\n",
      "2012-03-07 19:00:00-05:00   -0.094077\n",
      "2012-03-08 19:00:00-05:00    1.624140\n",
      "2012-03-09 19:00:00-05:00    0.081310\n",
      "Freq: D, dtype: float64\n"
     ]
    }
   ],
   "source": [
    "ts_utc = ts.tz_localize('UTC')\n",
    "print(ts_utc)\n",
    "\n",
    "# converts to US eastern time\n",
    "print(ts_utc.tz_convert('US/Eastern'))"
   ]
  },
  {
   "cell_type": "markdown",
   "metadata": {
    "colab_type": "text",
    "id": "4EKWqlWNxb5z"
   },
   "source": [
    "## Categoricals data\n"
   ]
  },
  {
   "cell_type": "code",
   "execution_count": 0,
   "metadata": {
    "colab": {
     "base_uri": "https://localhost:8080/",
     "height": 184
    },
    "colab_type": "code",
    "executionInfo": {
     "elapsed": 833,
     "status": "ok",
     "timestamp": 1569238069122,
     "user": {
      "displayName": "ML Lo",
      "photoUrl": "",
      "userId": "11511065297651515564"
     },
     "user_tz": -480
    },
    "id": "FKYBmNvryI-Z",
    "outputId": "4a3163dc-aab6-4603-c683-b4e99ba7acde"
   },
   "outputs": [
    {
     "name": "stdout",
     "output_type": "stream",
     "text": [
      "   id raw_grade\n",
      "0   1         a\n",
      "1   2         b\n",
      "2   3         b\n",
      "3   4         a\n",
      "4   5         a\n",
      "5   6         e\n",
      "id            int64\n",
      "raw_grade    object\n",
      "dtype: object\n"
     ]
    }
   ],
   "source": [
    "df = pd.DataFrame({\"id\": [1, 2, 3, 4, 5, 6],\n",
    "                       \"raw_grade\": ['a', 'b', 'b', 'a', 'a', 'e']})\n",
    "print(df)\n",
    "print(df.dtypes)  # note that 'raw_grade' is of type 'object'"
   ]
  },
  {
   "cell_type": "code",
   "execution_count": 0,
   "metadata": {
    "colab": {
     "base_uri": "https://localhost:8080/",
     "height": 284
    },
    "colab_type": "code",
    "executionInfo": {
     "elapsed": 733,
     "status": "ok",
     "timestamp": 1569238072957,
     "user": {
      "displayName": "ML Lo",
      "photoUrl": "",
      "userId": "11511065297651515564"
     },
     "user_tz": -480
    },
    "id": "_lGoeZl0kEE-",
    "outputId": "a4459b3e-f82b-4031-c838-9517ea236738"
   },
   "outputs": [
    {
     "name": "stdout",
     "output_type": "stream",
     "text": [
      "   id raw_grade grade\n",
      "0   1         a     a\n",
      "1   2         b     b\n",
      "2   3         b     b\n",
      "3   4         a     a\n",
      "4   5         a     a\n",
      "5   6         e     e\n",
      "--------------\n",
      " 0    a\n",
      "1    b\n",
      "2    b\n",
      "3    a\n",
      "4    a\n",
      "5    e\n",
      "Name: grade, dtype: category\n",
      "Categories (3, object): [a, b, e]\n"
     ]
    }
   ],
   "source": [
    "# We can create a new column with categorical type\n",
    "# astype() function casts existing values into a new type\n",
    "# here it casts characters \"a, b, d\" into categories\n",
    "df[\"grade\"] = df[\"raw_grade\"].astype(\"category\")\n",
    "\n",
    "print(df)\n",
    "# We can take a closer look at df['grade']\n",
    "print(\"--------------\\n\",df['grade'])"
   ]
  },
  {
   "cell_type": "code",
   "execution_count": 0,
   "metadata": {
    "colab": {
     "base_uri": "https://localhost:8080/",
     "height": 284
    },
    "colab_type": "code",
    "executionInfo": {
     "elapsed": 760,
     "status": "ok",
     "timestamp": 1569238076451,
     "user": {
      "displayName": "ML Lo",
      "photoUrl": "",
      "userId": "11511065297651515564"
     },
     "user_tz": -480
    },
    "id": "Hb8blkPT1GtS",
    "outputId": "9d5b61cd-3b3d-419e-9acf-59042790d792"
   },
   "outputs": [
    {
     "name": "stdout",
     "output_type": "stream",
     "text": [
      "   id raw_grade      grade\n",
      "0   1         a  very good\n",
      "1   2         b       good\n",
      "2   3         b       good\n",
      "3   4         a  very good\n",
      "4   5         a  very good\n",
      "5   6         e   very bad\n",
      "--------------\n",
      " 0    very good\n",
      "1         good\n",
      "2         good\n",
      "3    very good\n",
      "4    very good\n",
      "5     very bad\n",
      "Name: grade, dtype: category\n",
      "Categories (3, object): [very good, good, very bad]\n"
     ]
    }
   ],
   "source": [
    "# assign new values to the \"categories\" attribute,\n",
    "# this in effect renames categories to more meaningful names\n",
    "df[\"grade\"].cat.categories = [\"very good\", \"good\", \"very bad\"]\n",
    "print(df)\n",
    "print(\"--------------\\n\",df['grade'])"
   ]
  },
  {
   "cell_type": "code",
   "execution_count": 0,
   "metadata": {
    "colab": {
     "base_uri": "https://localhost:8080/",
     "height": 284
    },
    "colab_type": "code",
    "executionInfo": {
     "elapsed": 710,
     "status": "ok",
     "timestamp": 1569238082086,
     "user": {
      "displayName": "ML Lo",
      "photoUrl": "",
      "userId": "11511065297651515564"
     },
     "user_tz": -480
    },
    "id": "8NhvjvOS1a6F",
    "outputId": "2196499e-ce11-4b63-d3d5-bea254be0ef0"
   },
   "outputs": [
    {
     "name": "stdout",
     "output_type": "stream",
     "text": [
      "   id raw_grade      grade\n",
      "0   1         a  very good\n",
      "1   2         b       good\n",
      "2   3         b       good\n",
      "3   4         a  very good\n",
      "4   5         a  very good\n",
      "5   6         e   very bad\n",
      "--------------\n",
      " 0    very good\n",
      "1         good\n",
      "2         good\n",
      "3    very good\n",
      "4    very good\n",
      "5     very bad\n",
      "Name: grade, dtype: category\n",
      "Categories (5, object): [very bad, bad, medium, good, very good]\n"
     ]
    }
   ],
   "source": [
    "# We can also change the order of categories or\n",
    "# extend the categories to become more complete, for future purposes\n",
    "# this will not change current values.\n",
    "# set_categories() is used to reorder the categories, and add / remove categories.\n",
    "\n",
    "df[\"grade\"] = df[\"grade\"].cat.set_categories([\"very bad\", \"bad\", \"medium\",\n",
    "                                                  \"good\", \"very good\"])\n",
    "print(df)\n",
    "print(\"--------------\\n\",df['grade'])"
   ]
  },
  {
   "cell_type": "code",
   "execution_count": 0,
   "metadata": {
    "colab": {
     "base_uri": "https://localhost:8080/",
     "height": 226
    },
    "colab_type": "code",
    "executionInfo": {
     "elapsed": 782,
     "status": "ok",
     "timestamp": 1569238087325,
     "user": {
      "displayName": "ML Lo",
      "photoUrl": "",
      "userId": "11511065297651515564"
     },
     "user_tz": -480
    },
    "id": "LEz_hOvLfRfX",
    "outputId": "57e6811d-e2ee-43ac-b8b9-a1c6751e5d26"
   },
   "outputs": [
    {
     "data": {
      "text/html": [
       "<div>\n",
       "<style scoped>\n",
       "    .dataframe tbody tr th:only-of-type {\n",
       "        vertical-align: middle;\n",
       "    }\n",
       "\n",
       "    .dataframe tbody tr th {\n",
       "        vertical-align: top;\n",
       "    }\n",
       "\n",
       "    .dataframe thead th {\n",
       "        text-align: right;\n",
       "    }\n",
       "</style>\n",
       "<table border=\"1\" class=\"dataframe\">\n",
       "  <thead>\n",
       "    <tr style=\"text-align: right;\">\n",
       "      <th></th>\n",
       "      <th>id</th>\n",
       "      <th>raw_grade</th>\n",
       "      <th>grade</th>\n",
       "    </tr>\n",
       "  </thead>\n",
       "  <tbody>\n",
       "    <tr>\n",
       "      <th>5</th>\n",
       "      <td>6</td>\n",
       "      <td>e</td>\n",
       "      <td>very bad</td>\n",
       "    </tr>\n",
       "    <tr>\n",
       "      <th>1</th>\n",
       "      <td>2</td>\n",
       "      <td>b</td>\n",
       "      <td>good</td>\n",
       "    </tr>\n",
       "    <tr>\n",
       "      <th>2</th>\n",
       "      <td>3</td>\n",
       "      <td>b</td>\n",
       "      <td>good</td>\n",
       "    </tr>\n",
       "    <tr>\n",
       "      <th>0</th>\n",
       "      <td>1</td>\n",
       "      <td>a</td>\n",
       "      <td>very good</td>\n",
       "    </tr>\n",
       "    <tr>\n",
       "      <th>3</th>\n",
       "      <td>4</td>\n",
       "      <td>a</td>\n",
       "      <td>very good</td>\n",
       "    </tr>\n",
       "    <tr>\n",
       "      <th>4</th>\n",
       "      <td>5</td>\n",
       "      <td>a</td>\n",
       "      <td>very good</td>\n",
       "    </tr>\n",
       "  </tbody>\n",
       "</table>\n",
       "</div>"
      ],
      "text/plain": [
       "   id raw_grade      grade\n",
       "5   6         e   very bad\n",
       "1   2         b       good\n",
       "2   3         b       good\n",
       "0   1         a  very good\n",
       "3   4         a  very good\n",
       "4   5         a  very good"
      ]
     },
     "execution_count": 99,
     "metadata": {
      "tags": []
     },
     "output_type": "execute_result"
    }
   ],
   "source": [
    "# Sorting is per order in the categories, not lexical order\n",
    "df.sort_values(by=\"grade\")"
   ]
  },
  {
   "cell_type": "code",
   "execution_count": 0,
   "metadata": {
    "colab": {
     "base_uri": "https://localhost:8080/",
     "height": 134
    },
    "colab_type": "code",
    "executionInfo": {
     "elapsed": 729,
     "status": "ok",
     "timestamp": 1569238091817,
     "user": {
      "displayName": "ML Lo",
      "photoUrl": "",
      "userId": "11511065297651515564"
     },
     "user_tz": -480
    },
    "id": "SshYTMyo1ocl",
    "outputId": "d1ec2d13-c0fe-44ab-f60e-deed0060ce53"
   },
   "outputs": [
    {
     "data": {
      "text/plain": [
       "grade\n",
       "very bad     1\n",
       "bad          0\n",
       "medium       0\n",
       "good         2\n",
       "very good    3\n",
       "dtype: int64"
      ]
     },
     "execution_count": 100,
     "metadata": {
      "tags": []
     },
     "output_type": "execute_result"
    }
   ],
   "source": [
    "# Grouping by a categorical column also shows empty categories.\n",
    "df.groupby(\"grade\").size()"
   ]
  },
  {
   "cell_type": "code",
   "execution_count": 0,
   "metadata": {
    "colab": {
     "base_uri": "https://localhost:8080/",
     "height": 134
    },
    "colab_type": "code",
    "executionInfo": {
     "elapsed": 2179,
     "status": "ok",
     "timestamp": 1569238096483,
     "user": {
      "displayName": "ML Lo",
      "photoUrl": "",
      "userId": "11511065297651515564"
     },
     "user_tz": -480
    },
    "id": "HT-zxqNp4CWE",
    "outputId": "cd3063ce-48f2-4cf3-f617-6c63e0353573"
   },
   "outputs": [
    {
     "name": "stdout",
     "output_type": "stream",
     "text": [
      ",id,raw_grade,grade\n",
      "0,1,a,very good\n",
      "1,2,b,good\n",
      "2,3,b,good\n",
      "3,4,a,very good\n",
      "4,5,a,very good\n",
      "5,6,e,very bad\n"
     ]
    }
   ],
   "source": [
    "df.to_csv(\"temp.csv\")\n",
    "!cat temp.csv"
   ]
  },
  {
   "cell_type": "markdown",
   "metadata": {
    "colab_type": "text",
    "id": "yghvlyVN1_1f"
   },
   "source": [
    "## Plotting\n",
    "\n",
    "Pandas DataFrame.plot() and Series.plot() are just simple wrapper on matplotlib's pyplot.plot().\n",
    "\n",
    "However, if you only need to draw a few simple plot quickly, these functions are convenient."
   ]
  },
  {
   "cell_type": "code",
   "execution_count": 86,
   "metadata": {
    "colab": {
     "base_uri": "https://localhost:8080/",
     "height": 297
    },
    "colab_type": "code",
    "executionInfo": {
     "elapsed": 1259,
     "status": "ok",
     "timestamp": 1569985559129,
     "user": {
      "displayName": "ML Lo",
      "photoUrl": "",
      "userId": "11511065297651515564"
     },
     "user_tz": -480
    },
    "id": "FjIZm-pQ2TRw",
    "outputId": "ee5046e8-2703-457c-e9d2-9aa79074685b"
   },
   "outputs": [
    {
     "data": {
      "text/plain": [
       "<matplotlib.axes._subplots.AxesSubplot at 0x7fd644f4f940>"
      ]
     },
     "execution_count": 86,
     "metadata": {
      "tags": []
     },
     "output_type": "execute_result"
    },
    {
     "data": {
      "image/png": "[encoded data removed]",
      "text/plain": [
       "<Figure size 432x288 with 1 Axes>"
      ]
     },
     "metadata": {
      "tags": []
     },
     "output_type": "display_data"
    }
   ],
   "source": [
    "# Making a plot from a series\n",
    "# Series.plot()\n",
    "\n",
    "# Generate some data\n",
    "ts = pd.Series(np.random.randn(1000),\n",
    "                  index=pd.date_range('1/1/2000', periods=1000))\n",
    "\n",
    "ts = ts.cumsum()\n",
    "\n",
    "ts.plot()\n"
   ]
  },
  {
   "cell_type": "code",
   "execution_count": 95,
   "metadata": {
    "colab": {
     "base_uri": "https://localhost:8080/",
     "height": 297
    },
    "colab_type": "code",
    "executionInfo": {
     "elapsed": 1624,
     "status": "ok",
     "timestamp": 1569985855555,
     "user": {
      "displayName": "ML Lo",
      "photoUrl": "",
      "userId": "11511065297651515564"
     },
     "user_tz": -480
    },
    "id": "xcx-NowU3Cf6",
    "outputId": "47d3789f-439a-4bcf-b51a-06bd70f647ff"
   },
   "outputs": [
    {
     "data": {
      "text/plain": [
       "<matplotlib.axes._subplots.AxesSubplot at 0x7fd641f44898>"
      ]
     },
     "execution_count": 95,
     "metadata": {
      "tags": []
     },
     "output_type": "execute_result"
    },
    {
     "data": {
      "image/png": "[encoded data removed]",
      "text/plain": [
       "<Figure size 432x288 with 1 Axes>"
      ]
     },
     "metadata": {
      "tags": []
     },
     "output_type": "display_data"
    }
   ],
   "source": [
    "# Making a plot from a dataFrame\n",
    "# DataFRame.plot()\n",
    "\n",
    "# Generate a data frame of data\n",
    "df = pd.DataFrame(np.random.randn(1000, 4), index=ts.index,\n",
    "                      columns=['A', 'B', 'C', 'D'])\n",
    "\n",
    "df = df.cumsum()\n",
    "  \n",
    "df.plot()\n",
    "\n",
    "#import matplotlib.pyplot as plt\n",
    "#plt.legend(loc='best')"
   ]
  },
  {
   "cell_type": "markdown",
   "metadata": {
    "colab_type": "text",
    "id": "5Esi_B5U3ujo"
   },
   "source": [
    "## Getting data in and out\n",
    "\n",
    "With pandas, you can conveniently write to and read from the following:\n",
    "* csv file in the file system\n",
    "* h5 file in the HDFS file system\n",
    "* excel file in the file system"
   ]
  },
  {
   "cell_type": "code",
   "execution_count": 0,
   "metadata": {
    "colab": {},
    "colab_type": "code",
    "id": "LSSooKaT386O"
   },
   "outputs": [],
   "source": [
    "# Write to csv file\n",
    "df_small = pd.DataFrame({\"id\": [1, 2, 3, 4, 5, 6],\n",
    "                       \"raw_grade\": ['a', 'b', 'b', 'a', 'a', 'e']})\n",
    "# Write the DataFrame df that we generate just now to a csv file\n",
    "df_small.to_csv('foo.csv')"
   ]
  },
  {
   "cell_type": "code",
   "execution_count": 97,
   "metadata": {
    "colab": {
     "base_uri": "https://localhost:8080/",
     "height": 138
    },
    "colab_type": "code",
    "executionInfo": {
     "elapsed": 2556,
     "status": "ok",
     "timestamp": 1569986017898,
     "user": {
      "displayName": "ML Lo",
      "photoUrl": "",
      "userId": "11511065297651515564"
     },
     "user_tz": -480
    },
    "id": "c9bwubK73v4X",
    "outputId": "dfc47a51-c137-412d-805c-d4e7c8ed4c81"
   },
   "outputs": [
    {
     "name": "stdout",
     "output_type": "stream",
     "text": [
      ",id,raw_grade\n",
      "0,1,a\n",
      "1,2,b\n",
      "2,3,b\n",
      "3,4,a\n",
      "4,5,a\n",
      "5,6,e\n"
     ]
    }
   ],
   "source": [
    "!cat foo.csv"
   ]
  },
  {
   "cell_type": "code",
   "execution_count": 98,
   "metadata": {
    "colab": {
     "base_uri": "https://localhost:8080/",
     "height": 232
    },
    "colab_type": "code",
    "executionInfo": {
     "elapsed": 807,
     "status": "ok",
     "timestamp": 1569986036308,
     "user": {
      "displayName": "ML Lo",
      "photoUrl": "",
      "userId": "11511065297651515564"
     },
     "user_tz": -480
    },
    "id": "-SzWIa9a4Khp",
    "outputId": "d622a036-aefd-47a9-b963-28f35c545bd6"
   },
   "outputs": [
    {
     "data": {
      "text/html": [
       "<div>\n",
       "<style scoped>\n",
       "    .dataframe tbody tr th:only-of-type {\n",
       "        vertical-align: middle;\n",
       "    }\n",
       "\n",
       "    .dataframe tbody tr th {\n",
       "        vertical-align: top;\n",
       "    }\n",
       "\n",
       "    .dataframe thead th {\n",
       "        text-align: right;\n",
       "    }\n",
       "</style>\n",
       "<table border=\"1\" class=\"dataframe\">\n",
       "  <thead>\n",
       "    <tr style=\"text-align: right;\">\n",
       "      <th></th>\n",
       "      <th>Unnamed: 0</th>\n",
       "      <th>id</th>\n",
       "      <th>raw_grade</th>\n",
       "    </tr>\n",
       "  </thead>\n",
       "  <tbody>\n",
       "    <tr>\n",
       "      <th>0</th>\n",
       "      <td>0</td>\n",
       "      <td>1</td>\n",
       "      <td>a</td>\n",
       "    </tr>\n",
       "    <tr>\n",
       "      <th>1</th>\n",
       "      <td>1</td>\n",
       "      <td>2</td>\n",
       "      <td>b</td>\n",
       "    </tr>\n",
       "    <tr>\n",
       "      <th>2</th>\n",
       "      <td>2</td>\n",
       "      <td>3</td>\n",
       "      <td>b</td>\n",
       "    </tr>\n",
       "    <tr>\n",
       "      <th>3</th>\n",
       "      <td>3</td>\n",
       "      <td>4</td>\n",
       "      <td>a</td>\n",
       "    </tr>\n",
       "    <tr>\n",
       "      <th>4</th>\n",
       "      <td>4</td>\n",
       "      <td>5</td>\n",
       "      <td>a</td>\n",
       "    </tr>\n",
       "    <tr>\n",
       "      <th>5</th>\n",
       "      <td>5</td>\n",
       "      <td>6</td>\n",
       "      <td>e</td>\n",
       "    </tr>\n",
       "  </tbody>\n",
       "</table>\n",
       "</div>"
      ],
      "text/plain": [
       "   Unnamed: 0  id raw_grade\n",
       "0           0   1         a\n",
       "1           1   2         b\n",
       "2           2   3         b\n",
       "3           3   4         a\n",
       "4           4   5         a\n",
       "5           5   6         e"
      ]
     },
     "execution_count": 98,
     "metadata": {
      "tags": []
     },
     "output_type": "execute_result"
    }
   ],
   "source": [
    "# Note: You need to be careful about index\n",
    "# writing to and reading back from CSV will turn the original index into a column\n",
    "# read back from the file\n",
    "pd.read_csv('foo.csv')"
   ]
  },
  {
   "cell_type": "code",
   "execution_count": 99,
   "metadata": {
    "colab": {
     "base_uri": "https://localhost:8080/",
     "height": 232
    },
    "colab_type": "code",
    "executionInfo": {
     "elapsed": 860,
     "status": "ok",
     "timestamp": 1569986070413,
     "user": {
      "displayName": "ML Lo",
      "photoUrl": "",
      "userId": "11511065297651515564"
     },
     "user_tz": -480
    },
    "id": "niWdTJFv6UDW",
    "outputId": "70328548-ab3a-48cc-f5f6-2b0f15df9710"
   },
   "outputs": [
    {
     "data": {
      "text/html": [
       "<div>\n",
       "<style scoped>\n",
       "    .dataframe tbody tr th:only-of-type {\n",
       "        vertical-align: middle;\n",
       "    }\n",
       "\n",
       "    .dataframe tbody tr th {\n",
       "        vertical-align: top;\n",
       "    }\n",
       "\n",
       "    .dataframe thead th {\n",
       "        text-align: right;\n",
       "    }\n",
       "</style>\n",
       "<table border=\"1\" class=\"dataframe\">\n",
       "  <thead>\n",
       "    <tr style=\"text-align: right;\">\n",
       "      <th></th>\n",
       "      <th>id</th>\n",
       "      <th>raw_grade</th>\n",
       "    </tr>\n",
       "  </thead>\n",
       "  <tbody>\n",
       "    <tr>\n",
       "      <th>0</th>\n",
       "      <td>1</td>\n",
       "      <td>a</td>\n",
       "    </tr>\n",
       "    <tr>\n",
       "      <th>1</th>\n",
       "      <td>2</td>\n",
       "      <td>b</td>\n",
       "    </tr>\n",
       "    <tr>\n",
       "      <th>2</th>\n",
       "      <td>3</td>\n",
       "      <td>b</td>\n",
       "    </tr>\n",
       "    <tr>\n",
       "      <th>3</th>\n",
       "      <td>4</td>\n",
       "      <td>a</td>\n",
       "    </tr>\n",
       "    <tr>\n",
       "      <th>4</th>\n",
       "      <td>5</td>\n",
       "      <td>a</td>\n",
       "    </tr>\n",
       "    <tr>\n",
       "      <th>5</th>\n",
       "      <td>6</td>\n",
       "      <td>e</td>\n",
       "    </tr>\n",
       "  </tbody>\n",
       "</table>\n",
       "</div>"
      ],
      "text/plain": [
       "   id raw_grade\n",
       "0   1         a\n",
       "1   2         b\n",
       "2   3         b\n",
       "3   4         a\n",
       "4   5         a\n",
       "5   6         e"
      ]
     },
     "execution_count": 99,
     "metadata": {
      "tags": []
     },
     "output_type": "execute_result"
    }
   ],
   "source": [
    "# Use \"index_col\" argument correctly can restore the index\n",
    "pd.read_csv('foo.csv', index_col=0)"
   ]
  },
  {
   "cell_type": "code",
   "execution_count": 0,
   "metadata": {
    "colab": {},
    "colab_type": "code",
    "id": "cHR_ec1w5z78"
   },
   "outputs": [],
   "source": [
    "# to HDF5\n",
    "df.to_hdf('foo.h5', 'df')"
   ]
  },
  {
   "cell_type": "code",
   "execution_count": 0,
   "metadata": {
    "colab": {},
    "colab_type": "code",
    "id": "AiRj2Elp54t7"
   },
   "outputs": [],
   "source": [
    "pd.read_hdf('foo.h5', 'df')"
   ]
  },
  {
   "cell_type": "code",
   "execution_count": 0,
   "metadata": {
    "colab": {},
    "colab_type": "code",
    "id": "Q6AuzCpV452V"
   },
   "outputs": [],
   "source": [
    "df.to_excel('foo.xlsx', sheet_name='Sheet1')"
   ]
  },
  {
   "cell_type": "code",
   "execution_count": 0,
   "metadata": {
    "colab": {},
    "colab_type": "code",
    "id": "NwMaA5wQ49Kq"
   },
   "outputs": [],
   "source": [
    "pd.read_excel('foo.xlsx', 'Sheet1', index_col=None, na_values=['NA'])"
   ]
  }
 ],
 "metadata": {
  "colab": {
   "collapsed_sections": [
    "83c_xIUIEd2b",
    "4lNFuOL0aE9N",
    "bUNiNXIbln7K",
    "DbjuYjHSNpag",
    "Db2p585-OPtr",
    "i1kIy7j6Q2C_",
    "N15oiIwMnqKY",
    "b1UvY544W-FZ",
    "bQ4G5tmoX0Qh",
    "HDa9dvlSbp5u",
    "8bI4teETcBw8",
    "V9Avuenscw2u",
    "wc97bCkhdnNd",
    "CjYo0nK6ffaR",
    "gdmhRMnqguGI",
    "6u1IYsDYjjS7",
    "vW0deiykkh1w",
    "QWQMMucLm8dw",
    "uk2O76dCoVOs",
    "vg3tvOi6s9BH",
    "4EKWqlWNxb5z",
    "yghvlyVN1_1f",
    "5Esi_B5U3ujo"
   ],
   "name": "PylibPandas1.ipynb",
   "provenance": []
  },
  "kernelspec": {
   "display_name": "Python 3",
   "language": "python",
   "name": "python3"
  },
  "language_info": {
   "codemirror_mode": {
    "name": "ipython",
    "version": 3
   },
   "file_extension": ".py",
   "mimetype": "text/x-python",
   "name": "python",
   "nbconvert_exporter": "python",
   "pygments_lexer": "ipython3",
   "version": "3.6.8"
  }
 },
 "nbformat": 4,
 "nbformat_minor": 1
}
